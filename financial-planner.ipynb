{
  "nbformat": 4,
  "nbformat_minor": 0,
  "metadata": {
    "kernelspec": {
      "display_name": "Python 3",
      "language": "python",
      "name": "python3"
    },
    "language_info": {
      "codemirror_mode": {
        "name": "ipython",
        "version": 3
      },
      "file_extension": ".py",
      "mimetype": "text/x-python",
      "name": "python",
      "nbconvert_exporter": "python",
      "pygments_lexer": "ipython3",
      "version": "3.7.7"
    },
    "nteract": {
      "version": "0.28.0"
    },
    "colab": {
      "name": "financial-planner.ipynb",
      "provenance": []
    }
  },
  "cells": [
    {
      "cell_type": "markdown",
      "metadata": {
        "id": "ir7ppgNtQcSx"
      },
      "source": [
        "# Unit 5 - Financial Planning"
      ]
    },
    {
      "cell_type": "code",
      "metadata": {
        "id": "PZP1cG8cWhp7",
        "colab": {
          "base_uri": "https://localhost:8080/"
        },
        "outputId": "e6a733be-c9dc-4225-9eca-9ab8d5fb2586"
      },
      "source": [
        "from google.colab import drive\n",
        "drive.mount('/content/drive')"
      ],
      "execution_count": 2,
      "outputs": [
        {
          "output_type": "stream",
          "text": [
            "Drive already mounted at /content/drive; to attempt to forcibly remount, call drive.mount(\"/content/drive\", force_remount=True).\n"
          ],
          "name": "stdout"
        }
      ]
    },
    {
      "cell_type": "code",
      "metadata": {
        "colab": {
          "base_uri": "https://localhost:8080/"
        },
        "id": "vgOuz3NASKPg",
        "outputId": "2bd7e449-c890-4548-c8b5-3d3ae81b96fe"
      },
      "source": [
        "!pip install colab-env --upgrade"
      ],
      "execution_count": 3,
      "outputs": [
        {
          "output_type": "stream",
          "text": [
            "Collecting colab-env\n",
            "  Downloading https://files.pythonhosted.org/packages/9d/66/1845bc28d685894e6e203cfb2bdd9d19c86926d7a6f765e9497e218ab304/colab-env-0.2.0.tar.gz\n",
            "Collecting python-dotenv<1.0,>=0.10.0\n",
            "  Downloading https://files.pythonhosted.org/packages/26/1f/ae3d06ec877df31f49448d24eee7198549edae2af00da60c85dad93e343f/python_dotenv-0.17.1-py2.py3-none-any.whl\n",
            "Building wheels for collected packages: colab-env\n",
            "  Building wheel for colab-env (setup.py) ... \u001b[?25l\u001b[?25hdone\n",
            "  Created wheel for colab-env: filename=colab_env-0.2.0-cp37-none-any.whl size=3837 sha256=ed87361f2150088a4f510a12b3e6d46479b483423686604776313acc11edfc64\n",
            "  Stored in directory: /root/.cache/pip/wheels/81/9c/85/7ec1faca43d1a5df32f33f4e22d5ae91f301a5406779528ead\n",
            "Successfully built colab-env\n",
            "Installing collected packages: python-dotenv, colab-env\n",
            "Successfully installed colab-env-0.2.0 python-dotenv-0.17.1\n"
          ],
          "name": "stdout"
        }
      ]
    },
    {
      "cell_type": "code",
      "metadata": {
        "colab": {
          "base_uri": "https://localhost:8080/"
        },
        "id": "Lj14fx0bSZb2",
        "outputId": "c699e61f-cb45-49c4-ce7c-5e089cb76a5e"
      },
      "source": [
        "!pip install alpaca-trade-api"
      ],
      "execution_count": 4,
      "outputs": [
        {
          "output_type": "stream",
          "text": [
            "Collecting alpaca-trade-api\n",
            "  Downloading https://files.pythonhosted.org/packages/78/e2/0f54ba7ee0ccfd01f24cf9428f9a37ffe22d014143bf7731fa1f7fc562d9/alpaca_trade_api-1.2.1-py3-none-any.whl\n",
            "Requirement already satisfied: urllib3<2,>1.24 in /usr/local/lib/python3.7/dist-packages (from alpaca-trade-api) (1.24.3)\n",
            "Requirement already satisfied: numpy in /usr/local/lib/python3.7/dist-packages (from alpaca-trade-api) (1.19.5)\n",
            "Collecting websockets<9,>=8.0\n",
            "\u001b[?25l  Downloading https://files.pythonhosted.org/packages/5a/0b/3ebc752392a368af14dd24ee041683416ac6d2463eead94b311b11e41c82/websockets-8.1-cp37-cp37m-manylinux2010_x86_64.whl (79kB)\n",
            "\u001b[K     |████████████████████████████████| 81kB 7.7MB/s \n",
            "\u001b[?25hRequirement already satisfied: requests<3,>2 in /usr/local/lib/python3.7/dist-packages (from alpaca-trade-api) (2.23.0)\n",
            "Requirement already satisfied: pandas in /usr/local/lib/python3.7/dist-packages (from alpaca-trade-api) (1.1.5)\n",
            "Collecting websocket-client<1,>=0.56.0\n",
            "\u001b[?25l  Downloading https://files.pythonhosted.org/packages/f7/0c/d52a2a63512a613817846d430d16a8fbe5ea56dd889e89c68facf6b91cb6/websocket_client-0.59.0-py2.py3-none-any.whl (67kB)\n",
            "\u001b[K     |████████████████████████████████| 71kB 7.4MB/s \n",
            "\u001b[?25hRequirement already satisfied: msgpack==1.0.2 in /usr/local/lib/python3.7/dist-packages (from alpaca-trade-api) (1.0.2)\n",
            "Requirement already satisfied: idna<3,>=2.5 in /usr/local/lib/python3.7/dist-packages (from requests<3,>2->alpaca-trade-api) (2.10)\n",
            "Requirement already satisfied: certifi>=2017.4.17 in /usr/local/lib/python3.7/dist-packages (from requests<3,>2->alpaca-trade-api) (2021.5.30)\n",
            "Requirement already satisfied: chardet<4,>=3.0.2 in /usr/local/lib/python3.7/dist-packages (from requests<3,>2->alpaca-trade-api) (3.0.4)\n",
            "Requirement already satisfied: python-dateutil>=2.7.3 in /usr/local/lib/python3.7/dist-packages (from pandas->alpaca-trade-api) (2.8.1)\n",
            "Requirement already satisfied: pytz>=2017.2 in /usr/local/lib/python3.7/dist-packages (from pandas->alpaca-trade-api) (2018.9)\n",
            "Requirement already satisfied: six in /usr/local/lib/python3.7/dist-packages (from websocket-client<1,>=0.56.0->alpaca-trade-api) (1.15.0)\n",
            "Installing collected packages: websockets, websocket-client, alpaca-trade-api\n",
            "Successfully installed alpaca-trade-api-1.2.1 websocket-client-0.59.0 websockets-8.1\n"
          ],
          "name": "stdout"
        }
      ]
    },
    {
      "cell_type": "code",
      "metadata": {
        "id": "6H4P4eBw7nrz"
      },
      "source": [
        "#The most reliable way to import local resources"
      ],
      "execution_count": 5,
      "outputs": []
    },
    {
      "cell_type": "code",
      "metadata": {
        "id": "0P9PO7V6V1Ed"
      },
      "source": [
        "!cp '/content/drive/MyDrive/BootCampSpot/MCForecastTools.py' .\n",
        "!cp '/content/drive/MyDrive/BootCampSpot/pandasPalmer.py' .\n",
        "!cp '/content/drive/MyDrive/BootCampSpot/rsaPalmer.py' .\n",
        "!cp '/content/drive/MyDrive/BootCampSpot/.env' ."
      ],
      "execution_count": 6,
      "outputs": []
    },
    {
      "cell_type": "code",
      "metadata": {
        "id": "D1K2LDqcQcSy",
        "colab": {
          "base_uri": "https://localhost:8080/"
        },
        "outputId": "c490e5e5-3950-475f-ac18-897e4239f457"
      },
      "source": [
        "# Initial imports\n",
        "import os\n",
        "import requests\n",
        "import pandas as pd\n",
        "from dotenv import load_dotenv, find_dotenv\n",
        "import matplotlib.pyplot as plt\n",
        "import alpaca_trade_api as tradeapi\n",
        "import importlib\n",
        "#import MCForecastTools\n",
        "from MCForecastTools import MCSimulation\n",
        "import rsaPalmer\n",
        "\n",
        "%matplotlib inline"
      ],
      "execution_count": 7,
      "outputs": [
        {
          "output_type": "stream",
          "text": [
            "Default Path = /content/drive/MyDrive/BootCampSpot/\n",
            "Default Env file Path = /content/drive/MyDrive/BootCampSpot/.env exists\n",
            "File rsaPalmer is being imported\n"
          ],
          "name": "stdout"
        }
      ]
    },
    {
      "cell_type": "code",
      "metadata": {
        "colab": {
          "base_uri": "https://localhost:8080/"
        },
        "id": "U0hseT_k7Kly",
        "outputId": "8af550f9-48a3-4fb6-a862-297a6d9fb8a0"
      },
      "source": [
        "\n",
        "importlib.reload(rsaPalmer)"
      ],
      "execution_count": 8,
      "outputs": [
        {
          "output_type": "stream",
          "text": [
            "Default Path = /content/drive/MyDrive/BootCampSpot/\n",
            "Default Env file Path = /content/drive/MyDrive/BootCampSpot/.env exists\n",
            "File rsaPalmer is being imported\n"
          ],
          "name": "stdout"
        },
        {
          "output_type": "execute_result",
          "data": {
            "text/plain": [
              "<module 'rsaPalmer' from '/content/rsaPalmer.py'>"
            ]
          },
          "metadata": {
            "tags": []
          },
          "execution_count": 8
        }
      ]
    },
    {
      "cell_type": "code",
      "metadata": {
        "colab": {
          "base_uri": "https://localhost:8080/"
        },
        "id": "YXNwLVM9u2vY",
        "outputId": "edb8d172-80b0-44b7-eee7-a1936ca910c5"
      },
      "source": [
        "# Load .env enviroment variables\n",
        "# Loads the .env file and set's the ENV variables for use.\n",
        "env_val = os.getenv('PalmerEnv')\n",
        "if (env_val == None):\n",
        "  env_file = '/content/drive/MyDrive/BootCampSpot/.env'\n",
        "  if not load_dotenv(find_dotenv(filename=env_file, raise_error_if_not_found=True)):\n",
        "    print('Failed to load the environment variables, ensure the Directory exists')\n",
        "  else:\n",
        "    print('Sucessfully Loaded the Environment Variables')\n",
        "elif env_val == \"True\":\n",
        "  print('The Environmental Variables are already loaded')\n"
      ],
      "execution_count": 9,
      "outputs": [
        {
          "output_type": "stream",
          "text": [
            "Sucessfully Loaded the Environment Variables\n"
          ],
          "name": "stdout"
        }
      ]
    },
    {
      "cell_type": "markdown",
      "metadata": {
        "id": "vz3UeuTxQcS2"
      },
      "source": [
        "## Part 1 - Personal Finance Planner"
      ]
    },
    {
      "cell_type": "markdown",
      "metadata": {
        "id": "auimCGscQcS3"
      },
      "source": [
        "### Collect Crypto Prices Using the `requests` Library"
      ]
    },
    {
      "cell_type": "code",
      "metadata": {
        "id": "GUknr5_PNZvQ"
      },
      "source": [
        "import requests"
      ],
      "execution_count": 10,
      "outputs": []
    },
    {
      "cell_type": "code",
      "metadata": {
        "id": "vgC0p6H1QcS3",
        "cellView": "form"
      },
      "source": [
        "# Set current amount of crypto assets\n",
        "#@title My BitCoin and Etherium\n",
        "my_btc        =  1.2 #@param {type:\"number\"}\n",
        "my_eth        =  5.6 #@param {type:\"number\"}\n",
        "#avg_hh_income = 12000 #@param {type:\"number\"}"
      ],
      "execution_count": 11,
      "outputs": []
    },
    {
      "cell_type": "code",
      "metadata": {
        "id": "zvFmUG9kQcS4"
      },
      "source": [
        "# Crypto API URLs\n",
        "btc_url = \"https://api.alternative.me/v2/ticker/Bitcoin/?convert=CAD\"\n",
        "eth_url = \"https://api.alternative.me/v2/ticker/Ethereum/?convert=CAD\""
      ],
      "execution_count": 12,
      "outputs": []
    },
    {
      "cell_type": "code",
      "metadata": {
        "id": "A05jblqUQcS5",
        "colab": {
          "base_uri": "https://localhost:8080/"
        },
        "outputId": "ea51e7b3-07f2-4d6d-86f1-c305f034599a"
      },
      "source": [
        "# Fetch current BTC price\n",
        "btc_info = requests.get(btc_url)\n",
        "\n",
        "if (btc_info.status_code==200):\n",
        "  btc_price = btc_info.json()[\"data\"][\"1\"][\"quotes\"][\"CAD\"][\"price\"]\n",
        "else:\n",
        "  print(f'Failed to connect to [{btc_url}] for the current price')\n",
        "\n",
        "# Fetch current ETH price\n",
        "eth_info = requests.get(eth_url)\n",
        "\n",
        "if (eth_info.status_code==200):\n",
        "  eth_price = eth_info.json()[\"data\"][\"1027\"][\"quotes\"][\"CAD\"][\"price\"]\n",
        "else:\n",
        "  print(f'Failed to connect to [{eth_url}] for the current price')\n",
        "\n",
        "# Compute current value of my crpto\n",
        "my_btc_value = my_btc * btc_price\n",
        "my_eth_value = my_eth * eth_price\n",
        "\n",
        "# Print current crypto wallet balance\n",
        "print(f\"The current value of your {my_btc} BTC is CAD${my_btc_value:0,.2f}\")\n",
        "print(f\"The current value of your {my_eth} ETH is CAD${my_eth_value:0,.2f}\")\n"
      ],
      "execution_count": 13,
      "outputs": [
        {
          "output_type": "stream",
          "text": [
            "The current value of your 1.2 BTC is CAD$58,598.89\n",
            "The current value of your 5.6 ETH is CAD$17,240.37\n"
          ],
          "name": "stdout"
        }
      ]
    },
    {
      "cell_type": "markdown",
      "metadata": {
        "id": "ZyyrI_uQQcS6"
      },
      "source": [
        "### Collect Investments Data Using Alpaca: `SPY` (stocks) and `AGG` (bonds)"
      ]
    },
    {
      "cell_type": "code",
      "metadata": {
        "id": "nJxYYk8xQcS7"
      },
      "source": [
        "# Set current amount of shares\n",
        "my_agg = 200\n",
        "my_spy = 50"
      ],
      "execution_count": 14,
      "outputs": []
    },
    {
      "cell_type": "code",
      "metadata": {
        "id": "y5zLSPLnQcS7",
        "colab": {
          "base_uri": "https://localhost:8080/"
        },
        "outputId": "0bed83d9-96f9-4276-dd65-9a277cc32708"
      },
      "source": [
        "# Set Alpaca API key and secret\n",
        "# The keys that end with '_enc' have been encrypted in the .env file, it will be automatically decrypted.\n",
        "alpc_API_key = rsaPalmer.Get_API_Key('ALPACA_API_KEY_enc')[1] # Gets and decrypts key\n",
        "alpc_SECRET_key = rsaPalmer.Get_API_Key('ALPACA_SECRET_KEY_enc')[1] # Gets and decrypts key\n",
        "\n",
        "# Create the Alpaca API object\n",
        "trial_market = 'https://paper-api.alpaca.markets'\n",
        "import alpaca_trade_api as alpaca\n",
        "api = alpaca.REST(alpc_API_key, alpc_SECRET_key, trial_market, api_version=\"v2\")"
      ],
      "execution_count": 15,
      "outputs": [
        {
          "output_type": "stream",
          "text": [
            "Public file exists\n",
            "Private file exists\n",
            "Public file exists\n",
            "Private file exists\n"
          ],
          "name": "stdout"
        }
      ]
    },
    {
      "cell_type": "code",
      "metadata": {
        "id": "FaKO4OdvQcS8",
        "colab": {
          "base_uri": "https://localhost:8080/",
          "height": 266
        },
        "outputId": "517f0cc7-9535-400f-f159-731ffe0fa5be"
      },
      "source": [
        "# Format current date as ISO format\n",
        "from datetime import datetime\n",
        "current_date = pd.Timestamp(datetime.now()).isoformat()\n",
        "\n",
        "# Set the tickers\n",
        "tickers = [\"AGG\", \"SPY\"]\n",
        "\n",
        "# Set timeframe to '1D' for Alpaca API\n",
        "timeframe = \"1D\"\n",
        "\n",
        "# Get current closing prices for SPY and AGG\n",
        "# (use a limit=1000 parameter to call the most recent 1000 days of data)\n",
        "df_ticker = api.get_barset(\n",
        "    symbols=tickers,\n",
        "    timeframe=timeframe,\n",
        "    start=current_date,\n",
        "    limit= 1000\n",
        ").df\n",
        "\n",
        "# Preview DataFrame\n",
        "df_ticker.head()"
      ],
      "execution_count": 16,
      "outputs": [
        {
          "output_type": "execute_result",
          "data": {
            "text/html": [
              "<div>\n",
              "<style scoped>\n",
              "    .dataframe tbody tr th:only-of-type {\n",
              "        vertical-align: middle;\n",
              "    }\n",
              "\n",
              "    .dataframe tbody tr th {\n",
              "        vertical-align: top;\n",
              "    }\n",
              "\n",
              "    .dataframe thead tr th {\n",
              "        text-align: left;\n",
              "    }\n",
              "\n",
              "    .dataframe thead tr:last-of-type th {\n",
              "        text-align: right;\n",
              "    }\n",
              "</style>\n",
              "<table border=\"1\" class=\"dataframe\">\n",
              "  <thead>\n",
              "    <tr>\n",
              "      <th></th>\n",
              "      <th colspan=\"5\" halign=\"left\">AGG</th>\n",
              "      <th colspan=\"5\" halign=\"left\">SPY</th>\n",
              "    </tr>\n",
              "    <tr>\n",
              "      <th></th>\n",
              "      <th>open</th>\n",
              "      <th>high</th>\n",
              "      <th>low</th>\n",
              "      <th>close</th>\n",
              "      <th>volume</th>\n",
              "      <th>open</th>\n",
              "      <th>high</th>\n",
              "      <th>low</th>\n",
              "      <th>close</th>\n",
              "      <th>volume</th>\n",
              "    </tr>\n",
              "    <tr>\n",
              "      <th>time</th>\n",
              "      <th></th>\n",
              "      <th></th>\n",
              "      <th></th>\n",
              "      <th></th>\n",
              "      <th></th>\n",
              "      <th></th>\n",
              "      <th></th>\n",
              "      <th></th>\n",
              "      <th></th>\n",
              "      <th></th>\n",
              "    </tr>\n",
              "  </thead>\n",
              "  <tbody>\n",
              "    <tr>\n",
              "      <th>2017-06-23 00:00:00-04:00</th>\n",
              "      <td>110.01</td>\n",
              "      <td>110.1085</td>\n",
              "      <td>109.9800</td>\n",
              "      <td>110.07</td>\n",
              "      <td>1101304.0</td>\n",
              "      <td>NaN</td>\n",
              "      <td>NaN</td>\n",
              "      <td>NaN</td>\n",
              "      <td>NaN</td>\n",
              "      <td>NaN</td>\n",
              "    </tr>\n",
              "    <tr>\n",
              "      <th>2017-06-26 00:00:00-04:00</th>\n",
              "      <td>110.19</td>\n",
              "      <td>110.2400</td>\n",
              "      <td>110.1300</td>\n",
              "      <td>110.16</td>\n",
              "      <td>1364100.0</td>\n",
              "      <td>243.89</td>\n",
              "      <td>244.380</td>\n",
              "      <td>243.045</td>\n",
              "      <td>243.27</td>\n",
              "      <td>43153677.0</td>\n",
              "    </tr>\n",
              "    <tr>\n",
              "      <th>2017-06-27 00:00:00-04:00</th>\n",
              "      <td>109.93</td>\n",
              "      <td>109.9800</td>\n",
              "      <td>109.7901</td>\n",
              "      <td>109.83</td>\n",
              "      <td>2883305.0</td>\n",
              "      <td>243.04</td>\n",
              "      <td>243.380</td>\n",
              "      <td>241.310</td>\n",
              "      <td>241.36</td>\n",
              "      <td>60858189.0</td>\n",
              "    </tr>\n",
              "    <tr>\n",
              "      <th>2017-06-28 00:00:00-04:00</th>\n",
              "      <td>109.85</td>\n",
              "      <td>109.8800</td>\n",
              "      <td>109.6800</td>\n",
              "      <td>109.85</td>\n",
              "      <td>12016805.0</td>\n",
              "      <td>242.50</td>\n",
              "      <td>243.715</td>\n",
              "      <td>242.230</td>\n",
              "      <td>243.46</td>\n",
              "      <td>50076355.0</td>\n",
              "    </tr>\n",
              "    <tr>\n",
              "      <th>2017-06-29 00:00:00-04:00</th>\n",
              "      <td>109.53</td>\n",
              "      <td>109.6800</td>\n",
              "      <td>109.4650</td>\n",
              "      <td>109.64</td>\n",
              "      <td>2457876.0</td>\n",
              "      <td>243.66</td>\n",
              "      <td>243.720</td>\n",
              "      <td>239.955</td>\n",
              "      <td>241.39</td>\n",
              "      <td>87799860.0</td>\n",
              "    </tr>\n",
              "  </tbody>\n",
              "</table>\n",
              "</div>"
            ],
            "text/plain": [
              "                              AGG            ...     SPY            \n",
              "                             open      high  ...   close      volume\n",
              "time                                         ...                    \n",
              "2017-06-23 00:00:00-04:00  110.01  110.1085  ...     NaN         NaN\n",
              "2017-06-26 00:00:00-04:00  110.19  110.2400  ...  243.27  43153677.0\n",
              "2017-06-27 00:00:00-04:00  109.93  109.9800  ...  241.36  60858189.0\n",
              "2017-06-28 00:00:00-04:00  109.85  109.8800  ...  243.46  50076355.0\n",
              "2017-06-29 00:00:00-04:00  109.53  109.6800  ...  241.39  87799860.0\n",
              "\n",
              "[5 rows x 10 columns]"
            ]
          },
          "metadata": {
            "tags": []
          },
          "execution_count": 16
        }
      ]
    },
    {
      "cell_type": "code",
      "metadata": {
        "colab": {
          "base_uri": "https://localhost:8080/"
        },
        "id": "oBJDl4OsTIuM",
        "outputId": "fea62e56-c7da-4c24-c3e1-c10b9691d1ce"
      },
      "source": [
        "df_ticker.info()"
      ],
      "execution_count": 17,
      "outputs": [
        {
          "output_type": "stream",
          "text": [
            "<class 'pandas.core.frame.DataFrame'>\n",
            "DatetimeIndex: 1001 entries, 2017-06-23 00:00:00-04:00 to 2021-06-15 00:00:00-04:00\n",
            "Data columns (total 10 columns):\n",
            " #   Column         Non-Null Count  Dtype  \n",
            "---  ------         --------------  -----  \n",
            " 0   (AGG, open)    1000 non-null   float64\n",
            " 1   (AGG, high)    1000 non-null   float64\n",
            " 2   (AGG, low)     1000 non-null   float64\n",
            " 3   (AGG, close)   1000 non-null   float64\n",
            " 4   (AGG, volume)  1000 non-null   float64\n",
            " 5   (SPY, open)    1000 non-null   float64\n",
            " 6   (SPY, high)    1000 non-null   float64\n",
            " 7   (SPY, low)     1000 non-null   float64\n",
            " 8   (SPY, close)   1000 non-null   float64\n",
            " 9   (SPY, volume)  1000 non-null   float64\n",
            "dtypes: float64(10)\n",
            "memory usage: 86.0 KB\n"
          ],
          "name": "stdout"
        }
      ]
    },
    {
      "cell_type": "code",
      "metadata": {
        "colab": {
          "base_uri": "https://localhost:8080/"
        },
        "id": "iTtT6U72YX-A",
        "outputId": "84e30192-3b8f-4877-9529-280a7e1a1c89"
      },
      "source": [
        "df_AGG_close = df_ticker['AGG']['close']\n",
        "df_AGG_close"
      ],
      "execution_count": 18,
      "outputs": [
        {
          "output_type": "execute_result",
          "data": {
            "text/plain": [
              "time\n",
              "2017-06-23 00:00:00-04:00    110.070\n",
              "2017-06-26 00:00:00-04:00    110.160\n",
              "2017-06-27 00:00:00-04:00    109.830\n",
              "2017-06-28 00:00:00-04:00    109.850\n",
              "2017-06-29 00:00:00-04:00    109.640\n",
              "                              ...   \n",
              "2021-06-09 00:00:00-04:00    115.050\n",
              "2021-06-10 00:00:00-04:00    115.300\n",
              "2021-06-11 00:00:00-04:00    115.240\n",
              "2021-06-14 00:00:00-04:00    114.970\n",
              "2021-06-15 00:00:00-04:00    114.995\n",
              "Name: close, Length: 1001, dtype: float64"
            ]
          },
          "metadata": {
            "tags": []
          },
          "execution_count": 18
        }
      ]
    },
    {
      "cell_type": "code",
      "metadata": {
        "id": "-Rkq1IjVQcS9",
        "colab": {
          "base_uri": "https://localhost:8080/"
        },
        "outputId": "707d4f19-ee13-4c01-baf5-b1069f4184ac"
      },
      "source": [
        "# Pick AGG and SPY close prices\n",
        "df_AGG_close = df_ticker['AGG']['close']\n",
        "df_SPY_close = df_ticker['SPY']['close']\n",
        "df_COMB_close = pd.concat(objs=[df_AGG_close,df_SPY_close], axis='columns', join='inner')\n",
        "df_COMB_close.columns = tickers\n",
        "\n",
        "# Last Trading Day\n",
        "last_trading_day = max(df_COMB_close.index)\n",
        "\n",
        "date_filtr = (df_COMB_close.index == last_trading_day)\n",
        "\n",
        "agg_close_price = df_COMB_close.loc[date_filtr, 'AGG'].values[0]\n",
        "spy_close_price = df_COMB_close.loc[date_filtr, 'SPY'].values[0]\n",
        "\n",
        "# Print AGG and SPY close prices\n",
        "print(f\"Current AGG closing price: ${agg_close_price}\")\n",
        "print(f\"Current SPY closing price: ${spy_close_price}\")\n"
      ],
      "execution_count": 19,
      "outputs": [
        {
          "output_type": "stream",
          "text": [
            "Current AGG closing price: $114.995\n",
            "Current SPY closing price: $424.5\n"
          ],
          "name": "stdout"
        }
      ]
    },
    {
      "cell_type": "code",
      "metadata": {
        "id": "AMVFDS-oQcS9",
        "colab": {
          "base_uri": "https://localhost:8080/"
        },
        "outputId": "70332d00-928c-47cd-e550-e4ea3801a9aa"
      },
      "source": [
        "# Compute the current value of shares\n",
        "my_agg_value = agg_close_price * my_agg\n",
        "my_spy_value = spy_close_price * my_spy\n",
        "\n",
        "# Print current value of shares\n",
        "print(f\"The current value of your {my_spy:3} SPY shares is ${my_spy_value:10,.2f}\")\n",
        "print(f\"The current value of your {my_agg} AGG shares is ${my_agg_value:10,.2f}\")"
      ],
      "execution_count": 20,
      "outputs": [
        {
          "output_type": "stream",
          "text": [
            "The current value of your  50 SPY shares is $ 21,225.00\n",
            "The current value of your 200 AGG shares is $ 22,999.00\n"
          ],
          "name": "stdout"
        }
      ]
    },
    {
      "cell_type": "markdown",
      "metadata": {
        "id": "QQR5Klf9QcS-"
      },
      "source": [
        "### Savings Health Analysis"
      ]
    },
    {
      "cell_type": "code",
      "metadata": {
        "id": "40D3QB8cQcS-",
        "colab": {
          "base_uri": "https://localhost:8080/",
          "height": 173
        },
        "outputId": "3a1d43aa-80de-42f9-908e-57e256f1c109"
      },
      "source": [
        "# Set monthly household income\n",
        "monthly_income = 12_000\n",
        "\n",
        "# Consolidate financial assets data\n",
        "assets =[{'bitcoin':my_btc_value},{'ethereum':my_eth_value},{'SPY stock':my_spy_value},{'AGG stock':my_agg_value}]\n",
        "assets = {'Asset':['bitcoin','ethereum','SPY stock','AGG stock'], \n",
        "          'Value':[my_btc_value,my_eth_value,my_spy_value,my_agg_value]}\n",
        "\n",
        "# Create savings DataFrame\n",
        "df_savings = pd.DataFrame(data=assets, index=['bitcoin','ethereum','SPY stock','AGG stock'])\n",
        "xidx = df_savings['Asset'].to_list()\n",
        "\n",
        "# Display savings DataFrame\n",
        "display(df_savings)"
      ],
      "execution_count": 21,
      "outputs": [
        {
          "output_type": "display_data",
          "data": {
            "text/html": [
              "<div>\n",
              "<style scoped>\n",
              "    .dataframe tbody tr th:only-of-type {\n",
              "        vertical-align: middle;\n",
              "    }\n",
              "\n",
              "    .dataframe tbody tr th {\n",
              "        vertical-align: top;\n",
              "    }\n",
              "\n",
              "    .dataframe thead th {\n",
              "        text-align: right;\n",
              "    }\n",
              "</style>\n",
              "<table border=\"1\" class=\"dataframe\">\n",
              "  <thead>\n",
              "    <tr style=\"text-align: right;\">\n",
              "      <th></th>\n",
              "      <th>Asset</th>\n",
              "      <th>Value</th>\n",
              "    </tr>\n",
              "  </thead>\n",
              "  <tbody>\n",
              "    <tr>\n",
              "      <th>bitcoin</th>\n",
              "      <td>bitcoin</td>\n",
              "      <td>58598.893080</td>\n",
              "    </tr>\n",
              "    <tr>\n",
              "      <th>ethereum</th>\n",
              "      <td>ethereum</td>\n",
              "      <td>17240.373478</td>\n",
              "    </tr>\n",
              "    <tr>\n",
              "      <th>SPY stock</th>\n",
              "      <td>SPY stock</td>\n",
              "      <td>21225.000000</td>\n",
              "    </tr>\n",
              "    <tr>\n",
              "      <th>AGG stock</th>\n",
              "      <td>AGG stock</td>\n",
              "      <td>22999.000000</td>\n",
              "    </tr>\n",
              "  </tbody>\n",
              "</table>\n",
              "</div>"
            ],
            "text/plain": [
              "               Asset         Value\n",
              "bitcoin      bitcoin  58598.893080\n",
              "ethereum    ethereum  17240.373478\n",
              "SPY stock  SPY stock  21225.000000\n",
              "AGG stock  AGG stock  22999.000000"
            ]
          },
          "metadata": {
            "tags": []
          }
        }
      ]
    },
    {
      "cell_type": "code",
      "metadata": {
        "id": "s_VUAtBDQcS_",
        "colab": {
          "base_uri": "https://localhost:8080/",
          "height": 575
        },
        "outputId": "de39b90d-0931-4579-f744-79353c4995df"
      },
      "source": [
        "# Plot savings pie chart\n",
        "plt.show(\n",
        "    df_savings.plot.pie(y='Value', figsize=(10,10))\n",
        ")\n"
      ],
      "execution_count": 22,
      "outputs": [
        {
          "output_type": "display_data",
          "data": {
            "image/png": "[encoded data removed]",
            "text/plain": [
              "<Figure size 720x720 with 1 Axes>"
            ]
          },
          "metadata": {
            "tags": []
          }
        }
      ]
    },
    {
      "cell_type": "code",
      "metadata": {
        "id": "F4eXuAHlQcS_",
        "colab": {
          "base_uri": "https://localhost:8080/"
        },
        "outputId": "884cc85d-f8aa-494f-e6a7-1a0acfd933d6"
      },
      "source": [
        "# Set ideal emergency fund\n",
        "emergency_fund = monthly_income * 3\n",
        "\n",
        "# Calculate total amount of savings\n",
        "total_savings = df_savings['Value'].sum()\n",
        "\n",
        "# Validate saving health\n",
        "if total_savings > emergency_fund:\n",
        "  print(f'Your savings (CAD${total_savings:0,.2f}) exceeds your emergency fund (CAD${emergency_fund:0,.2f}) requirements by CAD${total_savings - emergency_fund:0,.2f}')\n",
        "else:\n",
        "  print(f'You need to increase your emergench funds by (CAD${emergency_fund - total_savings:0,.2f})')"
      ],
      "execution_count": 23,
      "outputs": [
        {
          "output_type": "stream",
          "text": [
            "Your savings (CAD$120,063.27) exceeds your emergency fund (CAD$36,000.00) requirements by CAD$84,063.27\n"
          ],
          "name": "stdout"
        }
      ]
    },
    {
      "cell_type": "markdown",
      "metadata": {
        "id": "zoY3n08EQcTA"
      },
      "source": [
        "## Part 2 - Retirement Planning\n",
        "\n",
        "### Monte Carlo Simulation"
      ]
    },
    {
      "cell_type": "code",
      "metadata": {
        "id": "fStjOWMuCGLb"
      },
      "source": [
        "from datetime import timedelta"
      ],
      "execution_count": 24,
      "outputs": []
    },
    {
      "cell_type": "code",
      "metadata": {
        "id": "xAcRQbuoQcTA"
      },
      "source": [
        "# Set start and end dates of five years back from today.\n",
        "# Sample results may vary from the solution based on the time frame chosen\n",
        "start_date = pd.Timestamp('2016-05-01', tz='America/New_York').isoformat()\n",
        "end_mid_date_ts   = pd.Timestamp('2019-05-01', tz='America/New_York')\n",
        "start_mid_date_ts = end_mid_date_ts + timedelta(days=1)\n",
        "end_date   = pd.Timestamp('2021-05-01', tz='America/New_York').isoformat()"
      ],
      "execution_count": 25,
      "outputs": []
    },
    {
      "cell_type": "code",
      "metadata": {
        "id": "KgH4Kl34QcTA",
        "colab": {
          "base_uri": "https://localhost:8080/",
          "height": 266
        },
        "outputId": "22019a3a-e8f6-46cb-8c43-a7ab4f7cd098"
      },
      "source": [
        "# Get 5 years' worth of historical data for SPY and AGG\n",
        "# (use a limit=1000 parameter to call the most recent 1000 days of data)\n",
        "df_1 = api.get_barset(\n",
        "    symbols=tickers,\n",
        "    timeframe=timeframe,\n",
        "    start=start_date,\n",
        "    end=end_mid_date_ts.isoformat(),\n",
        "    limit= 1000\n",
        ").df\n",
        "df_2 = api.get_barset(\n",
        "    symbols=tickers,\n",
        "    timeframe=timeframe,\n",
        "    start=start_mid_date_ts.isoformat(),\n",
        "    end=end_date,\n",
        "    limit= 1000\n",
        ").df\n",
        "\n",
        "df_stock_data = pd.concat(objs=[df_1,df_2], axis='rows', join='inner', sort=True)\n",
        "\n",
        "# Display sample data\n",
        "df_stock_data.head()"
      ],
      "execution_count": 26,
      "outputs": [
        {
          "output_type": "execute_result",
          "data": {
            "text/html": [
              "<div>\n",
              "<style scoped>\n",
              "    .dataframe tbody tr th:only-of-type {\n",
              "        vertical-align: middle;\n",
              "    }\n",
              "\n",
              "    .dataframe tbody tr th {\n",
              "        vertical-align: top;\n",
              "    }\n",
              "\n",
              "    .dataframe thead tr th {\n",
              "        text-align: left;\n",
              "    }\n",
              "\n",
              "    .dataframe thead tr:last-of-type th {\n",
              "        text-align: right;\n",
              "    }\n",
              "</style>\n",
              "<table border=\"1\" class=\"dataframe\">\n",
              "  <thead>\n",
              "    <tr>\n",
              "      <th></th>\n",
              "      <th colspan=\"5\" halign=\"left\">AGG</th>\n",
              "      <th colspan=\"5\" halign=\"left\">SPY</th>\n",
              "    </tr>\n",
              "    <tr>\n",
              "      <th></th>\n",
              "      <th>close</th>\n",
              "      <th>high</th>\n",
              "      <th>low</th>\n",
              "      <th>open</th>\n",
              "      <th>volume</th>\n",
              "      <th>close</th>\n",
              "      <th>high</th>\n",
              "      <th>low</th>\n",
              "      <th>open</th>\n",
              "      <th>volume</th>\n",
              "    </tr>\n",
              "    <tr>\n",
              "      <th>time</th>\n",
              "      <th></th>\n",
              "      <th></th>\n",
              "      <th></th>\n",
              "      <th></th>\n",
              "      <th></th>\n",
              "      <th></th>\n",
              "      <th></th>\n",
              "      <th></th>\n",
              "      <th></th>\n",
              "      <th></th>\n",
              "    </tr>\n",
              "  </thead>\n",
              "  <tbody>\n",
              "    <tr>\n",
              "      <th>2016-05-02 00:00:00-04:00</th>\n",
              "      <td>110.595</td>\n",
              "      <td>110.7400</td>\n",
              "      <td>110.5200</td>\n",
              "      <td>110.74</td>\n",
              "      <td>3371773.0</td>\n",
              "      <td>207.97</td>\n",
              "      <td>208.18</td>\n",
              "      <td>206.41</td>\n",
              "      <td>206.92</td>\n",
              "      <td>52152807</td>\n",
              "    </tr>\n",
              "    <tr>\n",
              "      <th>2016-05-03 00:00:00-04:00</th>\n",
              "      <td>110.820</td>\n",
              "      <td>110.9450</td>\n",
              "      <td>110.7500</td>\n",
              "      <td>110.89</td>\n",
              "      <td>2844893.0</td>\n",
              "      <td>206.15</td>\n",
              "      <td>206.80</td>\n",
              "      <td>205.28</td>\n",
              "      <td>206.52</td>\n",
              "      <td>79397652</td>\n",
              "    </tr>\n",
              "    <tr>\n",
              "      <th>2016-05-04 00:00:00-04:00</th>\n",
              "      <td>110.880</td>\n",
              "      <td>110.9315</td>\n",
              "      <td>110.7595</td>\n",
              "      <td>110.91</td>\n",
              "      <td>2600710.0</td>\n",
              "      <td>204.99</td>\n",
              "      <td>205.85</td>\n",
              "      <td>204.42</td>\n",
              "      <td>204.99</td>\n",
              "      <td>73747383</td>\n",
              "    </tr>\n",
              "    <tr>\n",
              "      <th>2016-05-05 00:00:00-04:00</th>\n",
              "      <td>111.120</td>\n",
              "      <td>111.1600</td>\n",
              "      <td>110.8010</td>\n",
              "      <td>110.92</td>\n",
              "      <td>2569143.0</td>\n",
              "      <td>204.98</td>\n",
              "      <td>205.98</td>\n",
              "      <td>204.47</td>\n",
              "      <td>205.56</td>\n",
              "      <td>58322810</td>\n",
              "    </tr>\n",
              "    <tr>\n",
              "      <th>2016-05-06 00:00:00-04:00</th>\n",
              "      <td>111.000</td>\n",
              "      <td>111.1200</td>\n",
              "      <td>110.9700</td>\n",
              "      <td>111.12</td>\n",
              "      <td>2204464.0</td>\n",
              "      <td>205.70</td>\n",
              "      <td>205.77</td>\n",
              "      <td>203.88</td>\n",
              "      <td>204.06</td>\n",
              "      <td>69458860</td>\n",
              "    </tr>\n",
              "  </tbody>\n",
              "</table>\n",
              "</div>"
            ],
            "text/plain": [
              "                               AGG            ...     SPY          \n",
              "                             close      high  ...    open    volume\n",
              "time                                          ...                  \n",
              "2016-05-02 00:00:00-04:00  110.595  110.7400  ...  206.92  52152807\n",
              "2016-05-03 00:00:00-04:00  110.820  110.9450  ...  206.52  79397652\n",
              "2016-05-04 00:00:00-04:00  110.880  110.9315  ...  204.99  73747383\n",
              "2016-05-05 00:00:00-04:00  111.120  111.1600  ...  205.56  58322810\n",
              "2016-05-06 00:00:00-04:00  111.000  111.1200  ...  204.06  69458860\n",
              "\n",
              "[5 rows x 10 columns]"
            ]
          },
          "metadata": {
            "tags": []
          },
          "execution_count": 26
        }
      ]
    },
    {
      "cell_type": "code",
      "metadata": {
        "id": "yp7O4_LqQcTB"
      },
      "source": [
        "# Configuring a Monte Carlo simulation to forecast 30 years cumulative returns\n",
        "num_sims = 1000\n",
        "trading_days_per_year = 252"
      ],
      "execution_count": 28,
      "outputs": []
    },
    {
      "cell_type": "code",
      "metadata": {
        "id": "Jjen4loZQcTB"
      },
      "source": [
        "# Printing the simulation input data\n",
        "MC_AGG_SPY = MCSimulation(\n",
        "    portfolio_data= df_stock_data,\n",
        "    num_simulation= num_sims,\n",
        "    num_trading_days = trading_days_per_year * 30\n",
        ")"
      ],
      "execution_count": 29,
      "outputs": []
    },
    {
      "cell_type": "code",
      "metadata": {
        "id": "StGLYvSPQcTC"
      },
      "source": [
        "# Running a Monte Carlo simulation to forecast 30 years cumulative returns\n",
        "MC_AGG_SPY.calc_cumulative_return()"
      ],
      "execution_count": null,
      "outputs": []
    },
    {
      "cell_type": "code",
      "metadata": {
        "id": "jId11nafQcTD"
      },
      "source": [
        "# Plot simulation outcomes\n",
        "MC_AGG_SPY.plot_simulation()"
      ],
      "execution_count": null,
      "outputs": []
    },
    {
      "cell_type": "code",
      "metadata": {
        "id": "n-PL3z00QcTE"
      },
      "source": [
        "# Plot probability distribution and confidence intervals\n",
        "MC_AGG_SPY.plot_distribution()"
      ],
      "execution_count": null,
      "outputs": []
    },
    {
      "cell_type": "markdown",
      "metadata": {
        "id": "vBs1peeXQcTE"
      },
      "source": [
        "### Retirement Analysis"
      ]
    },
    {
      "cell_type": "code",
      "metadata": {
        "id": "n2n7PV6qQcTE"
      },
      "source": [
        "# Fetch summary statistics from the Monte Carlo simulation results\n",
        "statics_summ = MC_AGG_SPY.summarize_cumulative_return()\n",
        "\n",
        "# Print summary statistics\n",
        "print(statics_summ)"
      ],
      "execution_count": null,
      "outputs": []
    },
    {
      "cell_type": "markdown",
      "metadata": {
        "id": "TvMQiD5FQcTF"
      },
      "source": [
        "### Calculate the expected portfolio return at the `95%` lower and upper confidence intervals based on a `$20,000` initial investment."
      ]
    },
    {
      "cell_type": "code",
      "metadata": {
        "id": "1Y7a9pAxQcTF"
      },
      "source": [
        "# Set initial investment\n",
        "initial_investment = 20000\n",
        "\n",
        "# Use the lower and upper `95%` confidence intervals to calculate the range of the possible outcomes of our $20,000\n",
        "ci_lower = statics_summ[8] * initial_investment\n",
        "ci_upper = statics_summ[9] * initial_investment\n",
        "\n",
        "# Print results\n",
        "print(f\"There is a 95% chance that an initial investment of ${initial_investment} in the portfolio\"\n",
        "      f\" over the next 30 years will end within in the range of\"\n",
        "      f\" CAD${ci_lower:0,.2f} and CAD${ci_upper:0,.2f}\")"
      ],
      "execution_count": null,
      "outputs": []
    },
    {
      "cell_type": "markdown",
      "metadata": {
        "id": "bzdFHLHnQcTG"
      },
      "source": [
        "### Calculate the expected portfolio return at the `95%` lower and upper confidence intervals based on a `50%` increase in the initial investment."
      ]
    },
    {
      "cell_type": "code",
      "metadata": {
        "id": "wlY3GytDQcTG"
      },
      "source": [
        "# Set initial investment\n",
        "initial_investment = 20000 * 1.5\n",
        "\n",
        "# Use the lower and upper `95%` confidence intervals to calculate the range of the possible outcomes of our $30,000\n",
        "ci_lower = statics_summ[8] * initial_investment\n",
        "ci_upper = statics_summ[9] * initial_investment\n",
        "\n",
        "# Print results\n",
        "print(f\"There is a 95% chance that an initial investment of ${initial_investment} in the portfolio\"\n",
        "      f\" over the next 30 years will end within in the range of\"\n",
        "      f\" CAD${ci_lower:0,.2f} and CAD${ci_upper:0,.2f}\")"
      ],
      "execution_count": null,
      "outputs": []
    },
    {
      "cell_type": "markdown",
      "metadata": {
        "id": "9F1eIE-LQcTH"
      },
      "source": [
        "## Optional Challenge - Early Retirement\n",
        "\n",
        "\n",
        "### Five Years Retirement Option"
      ]
    },
    {
      "cell_type": "code",
      "metadata": {
        "id": "IRcrPmBRQcTI"
      },
      "source": [
        "# Configuring a Monte Carlo simulation to forecast 5 years cumulative returns\n",
        "MC_AGG_SPY_5_yrs = MCSimulation(\n",
        "    portfolio_data= df_stock_data,\n",
        "    num_simulation= num_sims,\n",
        "    num_trading_days = trading_days_per_year * 5\n",
        ")"
      ],
      "execution_count": null,
      "outputs": []
    },
    {
      "cell_type": "code",
      "metadata": {
        "id": "V_W3P7auQcTJ"
      },
      "source": [
        "# Running a Monte Carlo simulation to forecast 5 years cumulative returns\n",
        "MC_AGG_SPY_5_yrs.calc_cumulative_return()"
      ],
      "execution_count": null,
      "outputs": []
    },
    {
      "cell_type": "code",
      "metadata": {
        "id": "Qps9bAzbQcTK"
      },
      "source": [
        "# Plot simulation outcomes\n",
        "MC_AGG_SPY_5_yrs.plot_simulation()"
      ],
      "execution_count": null,
      "outputs": []
    },
    {
      "cell_type": "code",
      "metadata": {
        "id": "Afr8empQQcTK"
      },
      "source": [
        "# Plot probability distribution and confidence intervals\n",
        "MC_AGG_SPY_5_yrs.plot_distribution()"
      ],
      "execution_count": null,
      "outputs": []
    },
    {
      "cell_type": "code",
      "metadata": {
        "id": "j3pa7baKQcTL"
      },
      "source": [
        "# Fetch summary statistics from the Monte Carlo simulation results\n",
        "statistics_summ_5_yrs = MC_AGG_SPY_5_yrs.summarize_cumulative_return()\n",
        "\n",
        "# Print summary statistics\n",
        "print(sstatictics_summ_5_yrs)"
      ],
      "execution_count": null,
      "outputs": []
    },
    {
      "cell_type": "code",
      "metadata": {
        "id": "0IzUGJVrQcTL"
      },
      "source": [
        "# Set initial investment\n",
        "initial_investment = 60_000\n",
        "\n",
        "# Use the lower and upper `95%` confidence intervals to calculate the range of the possible outcomes of our $60,000\n",
        "ci_lower_five = statics_summ_5_yrs[8] * initial_investment\n",
        "ci_upper_five = statics_summ_5_yrs[9] * initial_investment\n",
        "\n",
        "# Print results\n",
        "print(f\"There is a 95% chance that an initial investment of ${initial_investment} in the portfolio\"\n",
        "      f\" over the next 5 years will end within in the range of\"\n",
        "      f\" ${ci_lower_five:0,.2f} and ${ci_upper_five:0,.2f}\")"
      ],
      "execution_count": null,
      "outputs": []
    },
    {
      "cell_type": "markdown",
      "metadata": {
        "id": "OBO3m7qsQcTM"
      },
      "source": [
        "### Ten Years Retirement Option"
      ]
    },
    {
      "cell_type": "code",
      "metadata": {
        "id": "istqydSDQcTM"
      },
      "source": [
        "# Configuring a Monte Carlo simulation to forecast 10 years cumulative returns\n",
        "MC_AGG_SPY_10_yrs = MCSimulation(\n",
        "    portfolio_data= df_stock_data,\n",
        "    num_simulation= num_sims,\n",
        "    num_trading_days = trading_days_per_year * 5\n",
        ")"
      ],
      "execution_count": null,
      "outputs": []
    },
    {
      "cell_type": "code",
      "metadata": {
        "id": "lbXdOAQBQcTM"
      },
      "source": [
        "# Running a Monte Carlo simulation to forecast 10 years cumulative returns\n",
        "MC_AGG_SPY_10_yrs.calc_cumulative_return()"
      ],
      "execution_count": null,
      "outputs": []
    },
    {
      "cell_type": "code",
      "metadata": {
        "id": "0e9UQFH8QcTN"
      },
      "source": [
        "# Plot simulation outcomes\n",
        "MC_AGG_SPY_10_yrs.plot_simulation()"
      ],
      "execution_count": null,
      "outputs": []
    },
    {
      "cell_type": "code",
      "metadata": {
        "id": "JM-AnbRnQcTN"
      },
      "source": [
        "# Plot probability distribution and confidence intervals\n",
        "MC_AGG_SPY_10_yrs.plot_distribution()"
      ],
      "execution_count": null,
      "outputs": []
    },
    {
      "cell_type": "code",
      "metadata": {
        "id": "QcUaQaIQQcTO"
      },
      "source": [
        "# Fetch summary statistics from the Monte Carlo simulation results\n",
        "statistics_summ_10_yrs = MC_AGG_SPY_10_yrs.summarize_cumulative_return()\n",
        "\n",
        "# Print summary statistics\n",
        "print(sstatictics_summ_10_yrs)"
      ],
      "execution_count": null,
      "outputs": []
    },
    {
      "cell_type": "code",
      "metadata": {
        "id": "zHxDA2Z5QcTO"
      },
      "source": [
        "# Set initial investment\n",
        "initial_investment = 60_000\n",
        "\n",
        "# Use the lower and upper `95%` confidence intervals to calculate the range of the possible outcomes of our $60,000\n",
        "ci_lower_ten = statics_summ_10_yrs[8] * initial_investment\n",
        "ci_upper_ten = statics_summ_10_yrs[9] * initial_investment\n",
        "\n",
        "# Print results\n",
        "print(f\"There is a 95% chance that an initial investment of ${initial_investment} in the portfolio\"\n",
        "      f\" over the next 10 years will end within in the range of\"\n",
        "      f\" ${ci_lower_ten} and ${ci_upper_ten}\")"
      ],
      "execution_count": null,
      "outputs": []
    },
    {
      "cell_type": "code",
      "metadata": {
        "id": "bJraSroUQcTO"
      },
      "source": [
        ""
      ],
      "execution_count": null,
      "outputs": []
    }
  ]
}