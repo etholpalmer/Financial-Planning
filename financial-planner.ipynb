{
  "nbformat": 4,
  "nbformat_minor": 0,
  "metadata": {
    "kernelspec": {
      "display_name": "Python 3",
      "language": "python",
      "name": "python3"
    },
    "language_info": {
      "codemirror_mode": {
        "name": "ipython",
        "version": 3
      },
      "file_extension": ".py",
      "mimetype": "text/x-python",
      "name": "python",
      "nbconvert_exporter": "python",
      "pygments_lexer": "ipython3",
      "version": "3.7.7"
    },
    "nteract": {
      "version": "0.28.0"
    },
    "colab": {
      "name": "financial-planner.ipynb",
      "provenance": []
    }
  },
  "cells": [
    {
      "cell_type": "markdown",
      "metadata": {
        "id": "ir7ppgNtQcSx"
      },
      "source": [
        "# Unit 5 - Financial Planning"
      ]
    },
    {
      "cell_type": "code",
      "metadata": {
        "id": "PZP1cG8cWhp7",
        "colab": {
          "base_uri": "https://localhost:8080/"
        },
        "outputId": "7e1ac768-8a68-4245-f573-1671e609bd9e"
      },
      "source": [
        "from google.colab import drive\n",
        "drive.mount('/content/drive')"
      ],
      "execution_count": 1,
      "outputs": [
        {
          "output_type": "stream",
          "text": [
            "Mounted at /content/drive\n"
          ],
          "name": "stdout"
        }
      ]
    },
    {
      "cell_type": "code",
      "metadata": {
        "colab": {
          "base_uri": "https://localhost:8080/"
        },
        "id": "vgOuz3NASKPg",
        "outputId": "7658fd77-b6cf-4ec5-b048-5cd27b438536"
      },
      "source": [
        "!pip install colab-env --upgrade"
      ],
      "execution_count": 2,
      "outputs": [
        {
          "output_type": "stream",
          "text": [
            "Collecting colab-env\n",
            "  Downloading https://files.pythonhosted.org/packages/9d/66/1845bc28d685894e6e203cfb2bdd9d19c86926d7a6f765e9497e218ab304/colab-env-0.2.0.tar.gz\n",
            "Collecting python-dotenv<1.0,>=0.10.0\n",
            "  Downloading https://files.pythonhosted.org/packages/26/1f/ae3d06ec877df31f49448d24eee7198549edae2af00da60c85dad93e343f/python_dotenv-0.17.1-py2.py3-none-any.whl\n",
            "Building wheels for collected packages: colab-env\n",
            "  Building wheel for colab-env (setup.py) ... \u001b[?25l\u001b[?25hdone\n",
            "  Created wheel for colab-env: filename=colab_env-0.2.0-cp37-none-any.whl size=3837 sha256=626f55f0bdd442e8397f761f1126aa415111669eff108745a20c3c30d9a9f34f\n",
            "  Stored in directory: /root/.cache/pip/wheels/81/9c/85/7ec1faca43d1a5df32f33f4e22d5ae91f301a5406779528ead\n",
            "Successfully built colab-env\n",
            "Installing collected packages: python-dotenv, colab-env\n",
            "Successfully installed colab-env-0.2.0 python-dotenv-0.17.1\n"
          ],
          "name": "stdout"
        }
      ]
    },
    {
      "cell_type": "code",
      "metadata": {
        "colab": {
          "base_uri": "https://localhost:8080/"
        },
        "id": "Lj14fx0bSZb2",
        "outputId": "0ceaef63-7ca9-4eff-809e-c6b672fb0752"
      },
      "source": [
        "!pip install alpaca-trade-api"
      ],
      "execution_count": 3,
      "outputs": [
        {
          "output_type": "stream",
          "text": [
            "Collecting alpaca-trade-api\n",
            "  Downloading https://files.pythonhosted.org/packages/78/e2/0f54ba7ee0ccfd01f24cf9428f9a37ffe22d014143bf7731fa1f7fc562d9/alpaca_trade_api-1.2.1-py3-none-any.whl\n",
            "Requirement already satisfied: msgpack==1.0.2 in /usr/local/lib/python3.7/dist-packages (from alpaca-trade-api) (1.0.2)\n",
            "Requirement already satisfied: requests<3,>2 in /usr/local/lib/python3.7/dist-packages (from alpaca-trade-api) (2.23.0)\n",
            "Collecting websockets<9,>=8.0\n",
            "\u001b[?25l  Downloading https://files.pythonhosted.org/packages/5a/0b/3ebc752392a368af14dd24ee041683416ac6d2463eead94b311b11e41c82/websockets-8.1-cp37-cp37m-manylinux2010_x86_64.whl (79kB)\n",
            "\u001b[K     |████████████████████████████████| 81kB 3.7MB/s \n",
            "\u001b[?25hCollecting websocket-client<1,>=0.56.0\n",
            "\u001b[?25l  Downloading https://files.pythonhosted.org/packages/f7/0c/d52a2a63512a613817846d430d16a8fbe5ea56dd889e89c68facf6b91cb6/websocket_client-0.59.0-py2.py3-none-any.whl (67kB)\n",
            "\u001b[K     |████████████████████████████████| 71kB 4.3MB/s \n",
            "\u001b[?25hRequirement already satisfied: pandas in /usr/local/lib/python3.7/dist-packages (from alpaca-trade-api) (1.1.5)\n",
            "Requirement already satisfied: urllib3<2,>1.24 in /usr/local/lib/python3.7/dist-packages (from alpaca-trade-api) (1.24.3)\n",
            "Requirement already satisfied: numpy in /usr/local/lib/python3.7/dist-packages (from alpaca-trade-api) (1.19.5)\n",
            "Requirement already satisfied: chardet<4,>=3.0.2 in /usr/local/lib/python3.7/dist-packages (from requests<3,>2->alpaca-trade-api) (3.0.4)\n",
            "Requirement already satisfied: certifi>=2017.4.17 in /usr/local/lib/python3.7/dist-packages (from requests<3,>2->alpaca-trade-api) (2021.5.30)\n",
            "Requirement already satisfied: idna<3,>=2.5 in /usr/local/lib/python3.7/dist-packages (from requests<3,>2->alpaca-trade-api) (2.10)\n",
            "Requirement already satisfied: six in /usr/local/lib/python3.7/dist-packages (from websocket-client<1,>=0.56.0->alpaca-trade-api) (1.15.0)\n",
            "Requirement already satisfied: pytz>=2017.2 in /usr/local/lib/python3.7/dist-packages (from pandas->alpaca-trade-api) (2018.9)\n",
            "Requirement already satisfied: python-dateutil>=2.7.3 in /usr/local/lib/python3.7/dist-packages (from pandas->alpaca-trade-api) (2.8.1)\n",
            "Installing collected packages: websockets, websocket-client, alpaca-trade-api\n",
            "Successfully installed alpaca-trade-api-1.2.1 websocket-client-0.59.0 websockets-8.1\n"
          ],
          "name": "stdout"
        }
      ]
    },
    {
      "cell_type": "code",
      "metadata": {
        "id": "6H4P4eBw7nrz"
      },
      "source": [
        "#The most reliable way to import local resources"
      ],
      "execution_count": null,
      "outputs": []
    },
    {
      "cell_type": "code",
      "metadata": {
        "id": "0P9PO7V6V1Ed"
      },
      "source": [
        "!cp '/content/drive/MyDrive/BootCampSpot/MCForecastTools.py' .\n",
        "!cp '/content/drive/MyDrive/BootCampSpot/pandasPalmer.py' .\n",
        "!cp '/content/drive/MyDrive/BootCampSpot/rsaPalmer.py' .\n",
        "!cp '/content/drive/MyDrive/BootCampSpot/.env' ."
      ],
      "execution_count": 16,
      "outputs": []
    },
    {
      "cell_type": "code",
      "metadata": {
        "id": "D1K2LDqcQcSy"
      },
      "source": [
        "# Initial imports\n",
        "import os\n",
        "import requests\n",
        "import pandas as pd\n",
        "from dotenv import load_dotenv, find_dotenv\n",
        "import alpaca_trade_api as tradeapi\n",
        "#import MCForecastTools\n",
        "from MCForecastTools import MCSimulation\n",
        "import rsaPalmer\n",
        "\n",
        "%matplotlib inline"
      ],
      "execution_count": 12,
      "outputs": []
    },
    {
      "cell_type": "code",
      "metadata": {
        "colab": {
          "base_uri": "https://localhost:8080/"
        },
        "id": "U0hseT_k7Kly",
        "outputId": "eeb757c2-c186-4699-96ce-8f39173edfcc"
      },
      "source": [
        "import importlib\n",
        "importlib.reload(rsaPalmer)"
      ],
      "execution_count": 17,
      "outputs": [
        {
          "output_type": "stream",
          "text": [
            "Default Path = /content/drive/MyDrive/BootCampSpot/\n",
            "Default Env file Path = /content/drive/MyDrive/BootCampSpot/.env exists\n",
            "File rsaPalmer is being imported\n"
          ],
          "name": "stdout"
        },
        {
          "output_type": "execute_result",
          "data": {
            "text/plain": [
              "<module 'rsaPalmer' from '/content/rsaPalmer.py'>"
            ]
          },
          "metadata": {
            "tags": []
          },
          "execution_count": 17
        }
      ]
    },
    {
      "cell_type": "code",
      "metadata": {
        "colab": {
          "base_uri": "https://localhost:8080/"
        },
        "id": "dQIdjk8P9af_",
        "outputId": "c031f5b7-9873-4e3a-ed63-d6a3796b566a"
      },
      "source": [
        "print(rsaPalmer.Get_API_Key())"
      ],
      "execution_count": 21,
      "outputs": [
        {
          "output_type": "stream",
          "text": [
            "Public file exists\n",
            "Private file exists\n",
            "(True, '487AkRVucnqLrYoFJAT')\n"
          ],
          "name": "stdout"
        }
      ]
    },
    {
      "cell_type": "code",
      "metadata": {
        "colab": {
          "base_uri": "https://localhost:8080/"
        },
        "id": "YXNwLVM9u2vY",
        "outputId": "14cca1ab-6663-4b7c-a16c-d00d9bf49fc7"
      },
      "source": [
        "# Load .env enviroment variables\n",
        "# Loads the .env file and set's the ENV variables for use.\n",
        "env_val = os.getenv('PalmerEnv')\n",
        "if (env_val == None):\n",
        "  env_file = '/content/drive/MyDrive/BootCampSpot/.env'\n",
        "  if not load_dotenv(find_dotenv(filename=env_file, raise_error_if_not_found=True)):\n",
        "    print('Failed to load the environment variables, ensure the Directory exists')\n",
        "  else:\n",
        "    print('Sucessfully Loaded the Environment Variables')\n",
        "elif env_val == \"True\":\n",
        "  print('The Environmental Variables are already loaded')\n"
      ],
      "execution_count": 20,
      "outputs": [
        {
          "output_type": "stream",
          "text": [
            "The Environmental Variables are already loaded\n"
          ],
          "name": "stdout"
        }
      ]
    },
    {
      "cell_type": "markdown",
      "metadata": {
        "id": "vz3UeuTxQcS2"
      },
      "source": [
        "## Part 1 - Personal Finance Planner"
      ]
    },
    {
      "cell_type": "markdown",
      "metadata": {
        "id": "auimCGscQcS3"
      },
      "source": [
        "### Collect Crypto Prices Using the `requests` Library"
      ]
    },
    {
      "cell_type": "code",
      "metadata": {
        "id": "GUknr5_PNZvQ"
      },
      "source": [
        "import requests"
      ],
      "execution_count": 22,
      "outputs": []
    },
    {
      "cell_type": "code",
      "metadata": {
        "id": "vgC0p6H1QcS3",
        "cellView": "form"
      },
      "source": [
        "# Set current amount of crypto assets\n",
        "#@title My BitCoin and Etherium\n",
        "my_btc        =  1.2 #@param {type:\"number\"}\n",
        "my_eth        =  5.6 #@param {type:\"number\"}\n",
        "#avg_hh_income = 12000 #@param {type:\"number\"}"
      ],
      "execution_count": 23,
      "outputs": []
    },
    {
      "cell_type": "code",
      "metadata": {
        "id": "zvFmUG9kQcS4"
      },
      "source": [
        "# Crypto API URLs\n",
        "btc_url = \"https://api.alternative.me/v2/ticker/Bitcoin/?convert=CAD\"\n",
        "eth_url = \"https://api.alternative.me/v2/ticker/Ethereum/?convert=CAD\""
      ],
      "execution_count": 24,
      "outputs": []
    },
    {
      "cell_type": "code",
      "metadata": {
        "id": "A05jblqUQcS5",
        "colab": {
          "base_uri": "https://localhost:8080/"
        },
        "outputId": "c6b4a76b-8785-4aaa-86d5-dc5b677e1c11"
      },
      "source": [
        "# Fetch current BTC price\n",
        "btc_info = requests.get(btc_url)\n",
        "\n",
        "if (btc_info.status_code==200):\n",
        "  btc_price = btc_info.json()[\"data\"][\"1\"][\"quotes\"][\"CAD\"][\"price\"]\n",
        "else:\n",
        "  print(f'Failed to connect to [{btc_url}] for the current price')\n",
        "\n",
        "# Fetch current ETH price\n",
        "eth_info = requests.get(eth_url)\n",
        "\n",
        "if (eth_info.status_code==200):\n",
        "  eth_price = eth_info.json()[\"data\"][\"1027\"][\"quotes\"][\"CAD\"][\"price\"]\n",
        "else:\n",
        "  print(f'Failed to connect to [{eth_url}] for the current price')\n",
        "\n",
        "# Compute current value of my crpto\n",
        "my_btc_value = my_btc * btc_price\n",
        "my_eth_value = my_eth * eth_price\n",
        "\n",
        "# Print current crypto wallet balance\n",
        "print(f\"The current value of your {my_btc} BTC is CAD${my_btc_value:0,.2f}\")\n",
        "print(f\"The current value of your {my_eth} ETH is CAD${my_eth_value:0,.2f}\")\n"
      ],
      "execution_count": 25,
      "outputs": [
        {
          "output_type": "stream",
          "text": [
            "The current value of your 1.2 BTC is CAD$58,923.18\n",
            "The current value of your 5.6 ETH is CAD$17,696.53\n"
          ],
          "name": "stdout"
        }
      ]
    },
    {
      "cell_type": "markdown",
      "metadata": {
        "id": "ZyyrI_uQQcS6"
      },
      "source": [
        "### Collect Investments Data Using Alpaca: `SPY` (stocks) and `AGG` (bonds)"
      ]
    },
    {
      "cell_type": "code",
      "metadata": {
        "id": "nJxYYk8xQcS7"
      },
      "source": [
        "# Set current amount of shares\n",
        "my_agg = 200\n",
        "my_spy = 50"
      ],
      "execution_count": 26,
      "outputs": []
    },
    {
      "cell_type": "code",
      "metadata": {
        "id": "y5zLSPLnQcS7"
      },
      "source": [
        "# Set Alpaca API key and secret\n",
        "alpc_API_key = rsaPalmer.Get_API_Key('ALPACA_API_KEY_enc') # Gets and decrypts key\n",
        "alpc_SECRET_key = rsaPalmer.Get_API_Key('ALPACA_SECRET_KEY_enc') # Gets and decrypts key\n",
        "\n",
        "# Create the Alpaca API object\n",
        "# YOUR CODE HERE!"
      ],
      "execution_count": null,
      "outputs": []
    },
    {
      "cell_type": "code",
      "metadata": {
        "id": "FaKO4OdvQcS8"
      },
      "source": [
        "# Format current date as ISO format\n",
        "# YOUR CODE HERE!\n",
        "\n",
        "# Set the tickers\n",
        "tickers = [\"AGG\", \"SPY\"]\n",
        "\n",
        "# Set timeframe to '1D' for Alpaca API\n",
        "timeframe = \"1D\"\n",
        "\n",
        "# Get current closing prices for SPY and AGG\n",
        "# (use a limit=1000 parameter to call the most recent 1000 days of data)\n",
        "# YOUR CODE HERE!\n",
        "\n",
        "# Preview DataFrame\n",
        "# YOUR CODE HERE!"
      ],
      "execution_count": null,
      "outputs": []
    },
    {
      "cell_type": "code",
      "metadata": {
        "id": "-Rkq1IjVQcS9",
        "colab": {
          "base_uri": "https://localhost:8080/",
          "height": 220
        },
        "outputId": "3af96e64-1a24-43b6-d571-b679c544f46b"
      },
      "source": [
        "# Pick AGG and SPY close prices\n",
        "# YOUR CODE HERE!\n",
        "\n",
        "# Print AGG and SPY close prices\n",
        "print(f\"Current AGG closing price: ${agg_close_price}\")\n",
        "print(f\"Current SPY closing price: ${spy_close_price}\")"
      ],
      "execution_count": null,
      "outputs": [
        {
          "output_type": "error",
          "ename": "NameError",
          "evalue": "ignored",
          "traceback": [
            "\u001b[0;31m---------------------------------------------------------------------------\u001b[0m",
            "\u001b[0;31mNameError\u001b[0m                                 Traceback (most recent call last)",
            "\u001b[0;32m<ipython-input-34-4a68f81f7356>\u001b[0m in \u001b[0;36m<module>\u001b[0;34m()\u001b[0m\n\u001b[1;32m      3\u001b[0m \u001b[0;34m\u001b[0m\u001b[0m\n\u001b[1;32m      4\u001b[0m \u001b[0;31m# Print AGG and SPY close prices\u001b[0m\u001b[0;34m\u001b[0m\u001b[0;34m\u001b[0m\u001b[0;34m\u001b[0m\u001b[0m\n\u001b[0;32m----> 5\u001b[0;31m \u001b[0mprint\u001b[0m\u001b[0;34m(\u001b[0m\u001b[0;34mf\"Current AGG closing price: ${agg_close_price}\"\u001b[0m\u001b[0;34m)\u001b[0m\u001b[0;34m\u001b[0m\u001b[0;34m\u001b[0m\u001b[0m\n\u001b[0m\u001b[1;32m      6\u001b[0m \u001b[0mprint\u001b[0m\u001b[0;34m(\u001b[0m\u001b[0;34mf\"Current SPY closing price: ${spy_close_price}\"\u001b[0m\u001b[0;34m)\u001b[0m\u001b[0;34m\u001b[0m\u001b[0;34m\u001b[0m\u001b[0m\n",
            "\u001b[0;31mNameError\u001b[0m: name 'agg_close_price' is not defined"
          ]
        }
      ]
    },
    {
      "cell_type": "code",
      "metadata": {
        "id": "AMVFDS-oQcS9"
      },
      "source": [
        "# Compute the current value of shares\n",
        "# YOUR CODE HERE!\n",
        "\n",
        "# Print current value of shares\n",
        "print(f\"The current value of your {my_spy} SPY shares is ${my_spy_value:0.2f}\")\n",
        "print(f\"The current value of your {my_agg} AGG shares is ${my_agg_value:0.2f}\")"
      ],
      "execution_count": null,
      "outputs": []
    },
    {
      "cell_type": "markdown",
      "metadata": {
        "id": "QQR5Klf9QcS-"
      },
      "source": [
        "### Savings Health Analysis"
      ]
    },
    {
      "cell_type": "code",
      "metadata": {
        "id": "40D3QB8cQcS-"
      },
      "source": [
        "# Set monthly household income\n",
        "# YOUR CODE HERE!\n",
        "\n",
        "# Consolidate financial assets data\n",
        "# YOUR CODE HERE!\n",
        "\n",
        "# Create savings DataFrame\n",
        "# YOUR CODE HERE!\n",
        "\n",
        "# Display savings DataFrame\n",
        "display(df_savings)"
      ],
      "execution_count": null,
      "outputs": []
    },
    {
      "cell_type": "code",
      "metadata": {
        "id": "s_VUAtBDQcS_"
      },
      "source": [
        "# Plot savings pie chart\n",
        "# YOUR CODE HERE!"
      ],
      "execution_count": null,
      "outputs": []
    },
    {
      "cell_type": "code",
      "metadata": {
        "id": "F4eXuAHlQcS_"
      },
      "source": [
        "# Set ideal emergency fund\n",
        "emergency_fund = monthly_income * 3\n",
        "\n",
        "# Calculate total amount of savings\n",
        "# YOUR CODE HERE!\n",
        "\n",
        "# Validate saving health\n",
        "# YOUR CODE HERE!"
      ],
      "execution_count": null,
      "outputs": []
    },
    {
      "cell_type": "markdown",
      "metadata": {
        "id": "zoY3n08EQcTA"
      },
      "source": [
        "## Part 2 - Retirement Planning\n",
        "\n",
        "### Monte Carlo Simulation"
      ]
    },
    {
      "cell_type": "code",
      "metadata": {
        "id": "xAcRQbuoQcTA"
      },
      "source": [
        "# Set start and end dates of five years back from today.\n",
        "# Sample results may vary from the solution based on the time frame chosen\n",
        "start_date = pd.Timestamp('2016-05-01', tz='America/New_York').isoformat()\n",
        "end_date = pd.Timestamp('2021-05-01', tz='America/New_York').isoformat()"
      ],
      "execution_count": null,
      "outputs": []
    },
    {
      "cell_type": "code",
      "metadata": {
        "id": "KgH4Kl34QcTA"
      },
      "source": [
        "# Get 5 years' worth of historical data for SPY and AGG\n",
        "# (use a limit=1000 parameter to call the most recent 1000 days of data)\n",
        "# YOUR CODE HERE!\n",
        "\n",
        "# Display sample data\n",
        "df_stock_data.head()"
      ],
      "execution_count": null,
      "outputs": []
    },
    {
      "cell_type": "code",
      "metadata": {
        "id": "yp7O4_LqQcTB"
      },
      "source": [
        "# Configuring a Monte Carlo simulation to forecast 30 years cumulative returns\n",
        "# YOUR CODE HERE!"
      ],
      "execution_count": null,
      "outputs": []
    },
    {
      "cell_type": "code",
      "metadata": {
        "id": "Jjen4loZQcTB"
      },
      "source": [
        "# Printing the simulation input data\n",
        "# YOUR CODE HERE!"
      ],
      "execution_count": null,
      "outputs": []
    },
    {
      "cell_type": "code",
      "metadata": {
        "id": "StGLYvSPQcTC"
      },
      "source": [
        "# Running a Monte Carlo simulation to forecast 30 years cumulative returns\n",
        "# YOUR CODE HERE!"
      ],
      "execution_count": null,
      "outputs": []
    },
    {
      "cell_type": "code",
      "metadata": {
        "id": "jId11nafQcTD"
      },
      "source": [
        "# Plot simulation outcomes\n",
        "# YOUR CODE HERE!"
      ],
      "execution_count": null,
      "outputs": []
    },
    {
      "cell_type": "code",
      "metadata": {
        "id": "n-PL3z00QcTE"
      },
      "source": [
        "# Plot probability distribution and confidence intervals\n",
        "# YOUR CODE HERE!"
      ],
      "execution_count": null,
      "outputs": []
    },
    {
      "cell_type": "markdown",
      "metadata": {
        "id": "vBs1peeXQcTE"
      },
      "source": [
        "### Retirement Analysis"
      ]
    },
    {
      "cell_type": "code",
      "metadata": {
        "id": "n2n7PV6qQcTE"
      },
      "source": [
        "# Fetch summary statistics from the Monte Carlo simulation results\n",
        "# YOUR CODE HERE!\n",
        "\n",
        "# Print summary statistics\n",
        "# YOUR CODE HERE!"
      ],
      "execution_count": null,
      "outputs": []
    },
    {
      "cell_type": "markdown",
      "metadata": {
        "id": "TvMQiD5FQcTF"
      },
      "source": [
        "### Calculate the expected portfolio return at the `95%` lower and upper confidence intervals based on a `$20,000` initial investment."
      ]
    },
    {
      "cell_type": "code",
      "metadata": {
        "id": "1Y7a9pAxQcTF"
      },
      "source": [
        "# Set initial investment\n",
        "initial_investment = 20000\n",
        "\n",
        "# Use the lower and upper `95%` confidence intervals to calculate the range of the possible outcomes of our $20,000\n",
        "# YOUR CODE HERE!\n",
        "\n",
        "# Print results\n",
        "print(f\"There is a 95% chance that an initial investment of ${initial_investment} in the portfolio\"\n",
        "      f\" over the next 30 years will end within in the range of\"\n",
        "      f\" ${ci_lower} and ${ci_upper}\")"
      ],
      "execution_count": null,
      "outputs": []
    },
    {
      "cell_type": "markdown",
      "metadata": {
        "id": "bzdFHLHnQcTG"
      },
      "source": [
        "### Calculate the expected portfolio return at the `95%` lower and upper confidence intervals based on a `50%` increase in the initial investment."
      ]
    },
    {
      "cell_type": "code",
      "metadata": {
        "id": "wlY3GytDQcTG"
      },
      "source": [
        "# Set initial investment\n",
        "initial_investment = 20000 * 1.5\n",
        "\n",
        "# Use the lower and upper `95%` confidence intervals to calculate the range of the possible outcomes of our $30,000\n",
        "# YOUR CODE HERE!\n",
        "\n",
        "# Print results\n",
        "print(f\"There is a 95% chance that an initial investment of ${initial_investment} in the portfolio\"\n",
        "      f\" over the next 30 years will end within in the range of\"\n",
        "      f\" ${ci_lower} and ${ci_upper}\")"
      ],
      "execution_count": null,
      "outputs": []
    },
    {
      "cell_type": "markdown",
      "metadata": {
        "id": "9F1eIE-LQcTH"
      },
      "source": [
        "## Optional Challenge - Early Retirement\n",
        "\n",
        "\n",
        "### Five Years Retirement Option"
      ]
    },
    {
      "cell_type": "code",
      "metadata": {
        "id": "IRcrPmBRQcTI"
      },
      "source": [
        "# Configuring a Monte Carlo simulation to forecast 5 years cumulative returns\n",
        "# YOUR CODE HERE!"
      ],
      "execution_count": null,
      "outputs": []
    },
    {
      "cell_type": "code",
      "metadata": {
        "id": "V_W3P7auQcTJ"
      },
      "source": [
        "# Running a Monte Carlo simulation to forecast 5 years cumulative returns\n",
        "# YOUR CODE HERE!"
      ],
      "execution_count": null,
      "outputs": []
    },
    {
      "cell_type": "code",
      "metadata": {
        "id": "Qps9bAzbQcTK"
      },
      "source": [
        "# Plot simulation outcomes\n",
        "# YOUR CODE HERE!"
      ],
      "execution_count": null,
      "outputs": []
    },
    {
      "cell_type": "code",
      "metadata": {
        "id": "Afr8empQQcTK"
      },
      "source": [
        "# Plot probability distribution and confidence intervals\n",
        "# YOUR CODE HERE!"
      ],
      "execution_count": null,
      "outputs": []
    },
    {
      "cell_type": "code",
      "metadata": {
        "id": "j3pa7baKQcTL"
      },
      "source": [
        "# Fetch summary statistics from the Monte Carlo simulation results\n",
        "# YOUR CODE HERE!\n",
        "\n",
        "# Print summary statistics\n",
        "# YOUR CODE HERE!"
      ],
      "execution_count": null,
      "outputs": []
    },
    {
      "cell_type": "code",
      "metadata": {
        "id": "0IzUGJVrQcTL"
      },
      "source": [
        "# Set initial investment\n",
        "# YOUR CODE HERE!\n",
        "\n",
        "# Use the lower and upper `95%` confidence intervals to calculate the range of the possible outcomes of our $60,000\n",
        "# YOUR CODE HERE!\n",
        "\n",
        "# Print results\n",
        "print(f\"There is a 95% chance that an initial investment of ${initial_investment} in the portfolio\"\n",
        "      f\" over the next 5 years will end within in the range of\"\n",
        "      f\" ${ci_lower_five} and ${ci_upper_five}\")"
      ],
      "execution_count": null,
      "outputs": []
    },
    {
      "cell_type": "markdown",
      "metadata": {
        "id": "OBO3m7qsQcTM"
      },
      "source": [
        "### Ten Years Retirement Option"
      ]
    },
    {
      "cell_type": "code",
      "metadata": {
        "id": "istqydSDQcTM"
      },
      "source": [
        "# Configuring a Monte Carlo simulation to forecast 10 years cumulative returns\n",
        "# YOUR CODE HERE!"
      ],
      "execution_count": null,
      "outputs": []
    },
    {
      "cell_type": "code",
      "metadata": {
        "id": "lbXdOAQBQcTM"
      },
      "source": [
        "# Running a Monte Carlo simulation to forecast 10 years cumulative returns\n",
        "# YOUR CODE HERE!"
      ],
      "execution_count": null,
      "outputs": []
    },
    {
      "cell_type": "code",
      "metadata": {
        "id": "0e9UQFH8QcTN"
      },
      "source": [
        "# Plot simulation outcomes\n",
        "# YOUR CODE HERE!"
      ],
      "execution_count": null,
      "outputs": []
    },
    {
      "cell_type": "code",
      "metadata": {
        "id": "JM-AnbRnQcTN"
      },
      "source": [
        "# Plot probability distribution and confidence intervals\n",
        "# YOUR CODE HERE!"
      ],
      "execution_count": null,
      "outputs": []
    },
    {
      "cell_type": "code",
      "metadata": {
        "id": "QcUaQaIQQcTO"
      },
      "source": [
        "# Fetch summary statistics from the Monte Carlo simulation results\n",
        "# YOUR CODE HERE!\n",
        "\n",
        "# Print summary statistics\n",
        "# YOUR CODE HERE!"
      ],
      "execution_count": null,
      "outputs": []
    },
    {
      "cell_type": "code",
      "metadata": {
        "id": "zHxDA2Z5QcTO"
      },
      "source": [
        "# Set initial investment\n",
        "# YOUR CODE HERE!\n",
        "\n",
        "# Use the lower and upper `95%` confidence intervals to calculate the range of the possible outcomes of our $60,000\n",
        "# YOUR CODE HERE!\n",
        "\n",
        "# Print results\n",
        "print(f\"There is a 95% chance that an initial investment of ${initial_investment} in the portfolio\"\n",
        "      f\" over the next 10 years will end within in the range of\"\n",
        "      f\" ${ci_lower_ten} and ${ci_upper_ten}\")"
      ],
      "execution_count": null,
      "outputs": []
    },
    {
      "cell_type": "code",
      "metadata": {
        "id": "bJraSroUQcTO"
      },
      "source": [
        ""
      ],
      "execution_count": null,
      "outputs": []
    }
  ]
}