{
  "nbformat": 4,
  "nbformat_minor": 0,
  "metadata": {
    "kernelspec": {
      "display_name": "Python 3",
      "language": "python",
      "name": "python3"
    },
    "language_info": {
      "codemirror_mode": {
        "name": "ipython",
        "version": 3
      },
      "file_extension": ".py",
      "mimetype": "text/x-python",
      "name": "python",
      "nbconvert_exporter": "python",
      "pygments_lexer": "ipython3",
      "version": "3.7.7"
    },
    "nteract": {
      "version": "0.28.0"
    },
    "colab": {
      "name": "financial-planner.ipynb",
      "provenance": []
    }
  },
  "cells": [
    {
      "cell_type": "markdown",
      "metadata": {
        "id": "ir7ppgNtQcSx"
      },
      "source": [
        "# Unit 5 - Financial Planning"
      ]
    },
    {
      "cell_type": "code",
      "metadata": {
        "id": "PZP1cG8cWhp7",
        "colab": {
          "base_uri": "https://localhost:8080/"
        },
        "outputId": "8040ed92-116e-433a-8770-f7034ce4e095"
      },
      "source": [
        "from google.colab import drive\n",
        "drive.mount('/content/drive')"
      ],
      "execution_count": 1,
      "outputs": [
        {
          "output_type": "stream",
          "text": [
            "Mounted at /content/drive\n"
          ],
          "name": "stdout"
        }
      ]
    },
    {
      "cell_type": "code",
      "metadata": {
        "colab": {
          "base_uri": "https://localhost:8080/"
        },
        "id": "vgOuz3NASKPg",
        "outputId": "6a803a5e-5411-488b-c347-22f4e4b2cb2c"
      },
      "source": [
        "!pip install colab-env --upgrade"
      ],
      "execution_count": 2,
      "outputs": [
        {
          "output_type": "stream",
          "text": [
            "Collecting colab-env\n",
            "  Downloading https://files.pythonhosted.org/packages/9d/66/1845bc28d685894e6e203cfb2bdd9d19c86926d7a6f765e9497e218ab304/colab-env-0.2.0.tar.gz\n",
            "Collecting python-dotenv<1.0,>=0.10.0\n",
            "  Downloading https://files.pythonhosted.org/packages/26/1f/ae3d06ec877df31f49448d24eee7198549edae2af00da60c85dad93e343f/python_dotenv-0.17.1-py2.py3-none-any.whl\n",
            "Building wheels for collected packages: colab-env\n",
            "  Building wheel for colab-env (setup.py) ... \u001b[?25l\u001b[?25hdone\n",
            "  Created wheel for colab-env: filename=colab_env-0.2.0-cp37-none-any.whl size=3837 sha256=ce71f660adeb029ad8452f18d2833fa77c2f64d460cdb5fa8bff331ab9c30668\n",
            "  Stored in directory: /root/.cache/pip/wheels/81/9c/85/7ec1faca43d1a5df32f33f4e22d5ae91f301a5406779528ead\n",
            "Successfully built colab-env\n",
            "Installing collected packages: python-dotenv, colab-env\n",
            "Successfully installed colab-env-0.2.0 python-dotenv-0.17.1\n"
          ],
          "name": "stdout"
        }
      ]
    },
    {
      "cell_type": "code",
      "metadata": {
        "colab": {
          "base_uri": "https://localhost:8080/"
        },
        "id": "Lj14fx0bSZb2",
        "outputId": "f2ad4d30-57c1-4031-fc8b-bc19cce9e245"
      },
      "source": [
        "!pip install alpaca-trade-api"
      ],
      "execution_count": 3,
      "outputs": [
        {
          "output_type": "stream",
          "text": [
            "Collecting alpaca-trade-api\n",
            "  Downloading https://files.pythonhosted.org/packages/78/e2/0f54ba7ee0ccfd01f24cf9428f9a37ffe22d014143bf7731fa1f7fc562d9/alpaca_trade_api-1.2.1-py3-none-any.whl\n",
            "Requirement already satisfied: numpy in /usr/local/lib/python3.7/dist-packages (from alpaca-trade-api) (1.19.5)\n",
            "Collecting websocket-client<1,>=0.56.0\n",
            "\u001b[?25l  Downloading https://files.pythonhosted.org/packages/f7/0c/d52a2a63512a613817846d430d16a8fbe5ea56dd889e89c68facf6b91cb6/websocket_client-0.59.0-py2.py3-none-any.whl (67kB)\n",
            "\u001b[K     |████████████████████████████████| 71kB 8.9MB/s \n",
            "\u001b[?25hRequirement already satisfied: pandas in /usr/local/lib/python3.7/dist-packages (from alpaca-trade-api) (1.1.5)\n",
            "Requirement already satisfied: urllib3<2,>1.24 in /usr/local/lib/python3.7/dist-packages (from alpaca-trade-api) (1.24.3)\n",
            "Requirement already satisfied: requests<3,>2 in /usr/local/lib/python3.7/dist-packages (from alpaca-trade-api) (2.23.0)\n",
            "Collecting websockets<9,>=8.0\n",
            "\u001b[?25l  Downloading https://files.pythonhosted.org/packages/5a/0b/3ebc752392a368af14dd24ee041683416ac6d2463eead94b311b11e41c82/websockets-8.1-cp37-cp37m-manylinux2010_x86_64.whl (79kB)\n",
            "\u001b[K     |████████████████████████████████| 81kB 9.7MB/s \n",
            "\u001b[?25hRequirement already satisfied: msgpack==1.0.2 in /usr/local/lib/python3.7/dist-packages (from alpaca-trade-api) (1.0.2)\n",
            "Requirement already satisfied: six in /usr/local/lib/python3.7/dist-packages (from websocket-client<1,>=0.56.0->alpaca-trade-api) (1.15.0)\n",
            "Requirement already satisfied: python-dateutil>=2.7.3 in /usr/local/lib/python3.7/dist-packages (from pandas->alpaca-trade-api) (2.8.1)\n",
            "Requirement already satisfied: pytz>=2017.2 in /usr/local/lib/python3.7/dist-packages (from pandas->alpaca-trade-api) (2018.9)\n",
            "Requirement already satisfied: certifi>=2017.4.17 in /usr/local/lib/python3.7/dist-packages (from requests<3,>2->alpaca-trade-api) (2021.5.30)\n",
            "Requirement already satisfied: idna<3,>=2.5 in /usr/local/lib/python3.7/dist-packages (from requests<3,>2->alpaca-trade-api) (2.10)\n",
            "Requirement already satisfied: chardet<4,>=3.0.2 in /usr/local/lib/python3.7/dist-packages (from requests<3,>2->alpaca-trade-api) (3.0.4)\n",
            "Installing collected packages: websocket-client, websockets, alpaca-trade-api\n",
            "Successfully installed alpaca-trade-api-1.2.1 websocket-client-0.59.0 websockets-8.1\n"
          ],
          "name": "stdout"
        }
      ]
    },
    {
      "cell_type": "code",
      "metadata": {
        "id": "6H4P4eBw7nrz"
      },
      "source": [
        "#The most reliable way to import local resources"
      ],
      "execution_count": 4,
      "outputs": []
    },
    {
      "cell_type": "code",
      "metadata": {
        "id": "0P9PO7V6V1Ed"
      },
      "source": [
        "!cp '/content/drive/MyDrive/BootCampSpot/MCForecastTools.py' .\n",
        "!cp '/content/drive/MyDrive/BootCampSpot/pandasPalmer.py' .\n",
        "!cp '/content/drive/MyDrive/BootCampSpot/rsaPalmer.py' .\n",
        "!cp '/content/drive/MyDrive/BootCampSpot/.env' ."
      ],
      "execution_count": 5,
      "outputs": []
    },
    {
      "cell_type": "code",
      "metadata": {
        "id": "D1K2LDqcQcSy",
        "colab": {
          "base_uri": "https://localhost:8080/"
        },
        "outputId": "8131485e-7c56-4721-d055-f874e133c8d8"
      },
      "source": [
        "# Initial imports\n",
        "import os\n",
        "import requests\n",
        "import pandas as pd\n",
        "from dotenv import load_dotenv, find_dotenv\n",
        "import matplotlib.pyplot as plt\n",
        "import alpaca_trade_api as tradeapi\n",
        "import importlib\n",
        "#import MCForecastTools\n",
        "from MCForecastTools import MCSimulation\n",
        "import rsaPalmer\n",
        "\n",
        "%matplotlib inline"
      ],
      "execution_count": 6,
      "outputs": [
        {
          "output_type": "stream",
          "text": [
            "Default Path = /content/drive/MyDrive/BootCampSpot/\n",
            "Default Env file Path = /content/drive/MyDrive/BootCampSpot/.env exists\n",
            "File rsaPalmer is being imported\n"
          ],
          "name": "stdout"
        }
      ]
    },
    {
      "cell_type": "code",
      "metadata": {
        "colab": {
          "base_uri": "https://localhost:8080/"
        },
        "id": "U0hseT_k7Kly",
        "outputId": "4deeafcf-3f3d-49f4-ae95-17f394e67085"
      },
      "source": [
        "\n",
        "importlib.reload(rsaPalmer)"
      ],
      "execution_count": 7,
      "outputs": [
        {
          "output_type": "stream",
          "text": [
            "Default Path = /content/drive/MyDrive/BootCampSpot/\n",
            "Default Env file Path = /content/drive/MyDrive/BootCampSpot/.env exists\n",
            "File rsaPalmer is being imported\n"
          ],
          "name": "stdout"
        },
        {
          "output_type": "execute_result",
          "data": {
            "text/plain": [
              "<module 'rsaPalmer' from '/content/rsaPalmer.py'>"
            ]
          },
          "metadata": {
            "tags": []
          },
          "execution_count": 7
        }
      ]
    },
    {
      "cell_type": "code",
      "metadata": {
        "colab": {
          "base_uri": "https://localhost:8080/"
        },
        "id": "YXNwLVM9u2vY",
        "outputId": "dd8e4d93-0e4c-4d49-c915-dd77b7a33e8d"
      },
      "source": [
        "# Load .env enviroment variables\n",
        "# Loads the .env file and set's the ENV variables for use.\n",
        "env_val = os.getenv('PalmerEnv')\n",
        "if (env_val == None):\n",
        "  env_file = '/content/drive/MyDrive/BootCampSpot/.env'\n",
        "  if not load_dotenv(find_dotenv(filename=env_file, raise_error_if_not_found=True)):\n",
        "    print('Failed to load the environment variables, ensure the Directory exists')\n",
        "  else:\n",
        "    print('Sucessfully Loaded the Environment Variables')\n",
        "elif env_val == \"True\":\n",
        "  print('The Environmental Variables are already loaded')\n"
      ],
      "execution_count": 8,
      "outputs": [
        {
          "output_type": "stream",
          "text": [
            "Sucessfully Loaded the Environment Variables\n"
          ],
          "name": "stdout"
        }
      ]
    },
    {
      "cell_type": "markdown",
      "metadata": {
        "id": "vz3UeuTxQcS2"
      },
      "source": [
        "## Part 1 - Personal Finance Planner"
      ]
    },
    {
      "cell_type": "markdown",
      "metadata": {
        "id": "auimCGscQcS3"
      },
      "source": [
        "### Collect Crypto Prices Using the `requests` Library"
      ]
    },
    {
      "cell_type": "code",
      "metadata": {
        "id": "GUknr5_PNZvQ"
      },
      "source": [
        "import requests"
      ],
      "execution_count": 9,
      "outputs": []
    },
    {
      "cell_type": "code",
      "metadata": {
        "id": "vgC0p6H1QcS3",
        "cellView": "form"
      },
      "source": [
        "# Set current amount of crypto assets\n",
        "#@title My BitCoin and Etherium\n",
        "my_btc        =  1.2 #@param {type:\"number\"}\n",
        "my_eth        =  5.6 #@param {type:\"number\"}\n",
        "#avg_hh_income = 12000 #@param {type:\"number\"}"
      ],
      "execution_count": 10,
      "outputs": []
    },
    {
      "cell_type": "code",
      "metadata": {
        "id": "zvFmUG9kQcS4"
      },
      "source": [
        "# Crypto API URLs\n",
        "btc_url = \"https://api.alternative.me/v2/ticker/Bitcoin/?convert=CAD\"\n",
        "eth_url = \"https://api.alternative.me/v2/ticker/Ethereum/?convert=CAD\""
      ],
      "execution_count": 11,
      "outputs": []
    },
    {
      "cell_type": "code",
      "metadata": {
        "id": "A05jblqUQcS5",
        "colab": {
          "base_uri": "https://localhost:8080/"
        },
        "outputId": "362bd7b9-8982-4f78-b8f7-b79e9b11c445"
      },
      "source": [
        "# Fetch current BTC price\n",
        "btc_info = requests.get(btc_url)\n",
        "\n",
        "if (btc_info.status_code==200):\n",
        "  btc_price = btc_info.json()[\"data\"][\"1\"][\"quotes\"][\"CAD\"][\"price\"]\n",
        "else:\n",
        "  print(f'Failed to connect to [{btc_url}] for the current price')\n",
        "\n",
        "# Fetch current ETH price\n",
        "eth_info = requests.get(eth_url)\n",
        "\n",
        "if (eth_info.status_code==200):\n",
        "  eth_price = eth_info.json()[\"data\"][\"1027\"][\"quotes\"][\"CAD\"][\"price\"]\n",
        "else:\n",
        "  print(f'Failed to connect to [{eth_url}] for the current price')\n",
        "\n",
        "# Compute current value of my crpto\n",
        "my_btc_value = my_btc * btc_price\n",
        "my_eth_value = my_eth * eth_price\n",
        "\n",
        "# Print current crypto wallet balance\n",
        "print(f\"The current value of your {my_btc} BTC is CAD${my_btc_value:0,.2f}\")\n",
        "print(f\"The current value of your {my_eth} ETH is CAD${my_eth_value:0,.2f}\")\n"
      ],
      "execution_count": 12,
      "outputs": [
        {
          "output_type": "stream",
          "text": [
            "The current value of your 1.2 BTC is CAD$60,159.45\n",
            "The current value of your 5.6 ETH is CAD$17,741.67\n"
          ],
          "name": "stdout"
        }
      ]
    },
    {
      "cell_type": "markdown",
      "metadata": {
        "id": "ZyyrI_uQQcS6"
      },
      "source": [
        "### Collect Investments Data Using Alpaca: `SPY` (stocks) and `AGG` (bonds)"
      ]
    },
    {
      "cell_type": "code",
      "metadata": {
        "id": "nJxYYk8xQcS7"
      },
      "source": [
        "# Set current amount of shares\n",
        "my_agg = 200\n",
        "my_spy = 50"
      ],
      "execution_count": 13,
      "outputs": []
    },
    {
      "cell_type": "code",
      "metadata": {
        "id": "y5zLSPLnQcS7",
        "colab": {
          "base_uri": "https://localhost:8080/"
        },
        "outputId": "e50eac6d-433e-44b4-df73-f80a8e7ca869"
      },
      "source": [
        "# Set Alpaca API key and secret\n",
        "# The keys that end with '_enc' have been encrypted in the .env file, it will be automatically decrypted.\n",
        "alpc_API_key = rsaPalmer.Get_API_Key('ALPACA_API_KEY_enc')[1] # Gets and decrypts key\n",
        "alpc_SECRET_key = rsaPalmer.Get_API_Key('ALPACA_SECRET_KEY_enc')[1] # Gets and decrypts key\n",
        "\n",
        "# Create the Alpaca API object\n",
        "trial_market = 'https://paper-api.alpaca.markets'\n",
        "import alpaca_trade_api as alpaca\n",
        "api = alpaca.REST(alpc_API_key, alpc_SECRET_key, trial_market, api_version=\"v2\")"
      ],
      "execution_count": 14,
      "outputs": [
        {
          "output_type": "stream",
          "text": [
            "Public file exists\n",
            "Private file exists\n",
            "Public file exists\n",
            "Private file exists\n"
          ],
          "name": "stdout"
        }
      ]
    },
    {
      "cell_type": "code",
      "metadata": {
        "id": "FaKO4OdvQcS8",
        "colab": {
          "base_uri": "https://localhost:8080/",
          "height": 266
        },
        "outputId": "b647b95d-af0b-4f9f-f33e-fc75e5e24ee0"
      },
      "source": [
        "# Format current date as ISO format\n",
        "from datetime import datetime\n",
        "current_date = pd.Timestamp(datetime.now()).isoformat()\n",
        "\n",
        "# Set the tickers\n",
        "tickers = [\"AGG\", \"SPY\"]\n",
        "\n",
        "# Set timeframe to '1D' for Alpaca API\n",
        "timeframe = \"1D\"\n",
        "\n",
        "# Get current closing prices for SPY and AGG\n",
        "# (use a limit=1000 parameter to call the most recent 1000 days of data)\n",
        "df_ticker = api.get_barset(\n",
        "    symbols=tickers,\n",
        "    timeframe=timeframe,\n",
        "    start=current_date,\n",
        "    limit= 1000\n",
        ").df\n",
        "\n",
        "# Preview DataFrame\n",
        "df_ticker.head()"
      ],
      "execution_count": 15,
      "outputs": [
        {
          "output_type": "execute_result",
          "data": {
            "text/html": [
              "<div>\n",
              "<style scoped>\n",
              "    .dataframe tbody tr th:only-of-type {\n",
              "        vertical-align: middle;\n",
              "    }\n",
              "\n",
              "    .dataframe tbody tr th {\n",
              "        vertical-align: top;\n",
              "    }\n",
              "\n",
              "    .dataframe thead tr th {\n",
              "        text-align: left;\n",
              "    }\n",
              "\n",
              "    .dataframe thead tr:last-of-type th {\n",
              "        text-align: right;\n",
              "    }\n",
              "</style>\n",
              "<table border=\"1\" class=\"dataframe\">\n",
              "  <thead>\n",
              "    <tr>\n",
              "      <th></th>\n",
              "      <th colspan=\"5\" halign=\"left\">AGG</th>\n",
              "      <th colspan=\"5\" halign=\"left\">SPY</th>\n",
              "    </tr>\n",
              "    <tr>\n",
              "      <th></th>\n",
              "      <th>open</th>\n",
              "      <th>high</th>\n",
              "      <th>low</th>\n",
              "      <th>close</th>\n",
              "      <th>volume</th>\n",
              "      <th>open</th>\n",
              "      <th>high</th>\n",
              "      <th>low</th>\n",
              "      <th>close</th>\n",
              "      <th>volume</th>\n",
              "    </tr>\n",
              "    <tr>\n",
              "      <th>time</th>\n",
              "      <th></th>\n",
              "      <th></th>\n",
              "      <th></th>\n",
              "      <th></th>\n",
              "      <th></th>\n",
              "      <th></th>\n",
              "      <th></th>\n",
              "      <th></th>\n",
              "      <th></th>\n",
              "      <th></th>\n",
              "    </tr>\n",
              "  </thead>\n",
              "  <tbody>\n",
              "    <tr>\n",
              "      <th>2017-06-23 00:00:00-04:00</th>\n",
              "      <td>110.01</td>\n",
              "      <td>110.1085</td>\n",
              "      <td>109.9800</td>\n",
              "      <td>110.07</td>\n",
              "      <td>1101304.0</td>\n",
              "      <td>NaN</td>\n",
              "      <td>NaN</td>\n",
              "      <td>NaN</td>\n",
              "      <td>NaN</td>\n",
              "      <td>NaN</td>\n",
              "    </tr>\n",
              "    <tr>\n",
              "      <th>2017-06-26 00:00:00-04:00</th>\n",
              "      <td>110.19</td>\n",
              "      <td>110.2400</td>\n",
              "      <td>110.1300</td>\n",
              "      <td>110.16</td>\n",
              "      <td>1364100.0</td>\n",
              "      <td>243.89</td>\n",
              "      <td>244.380</td>\n",
              "      <td>243.045</td>\n",
              "      <td>243.27</td>\n",
              "      <td>43153677.0</td>\n",
              "    </tr>\n",
              "    <tr>\n",
              "      <th>2017-06-27 00:00:00-04:00</th>\n",
              "      <td>109.93</td>\n",
              "      <td>109.9800</td>\n",
              "      <td>109.7901</td>\n",
              "      <td>109.83</td>\n",
              "      <td>2883305.0</td>\n",
              "      <td>243.04</td>\n",
              "      <td>243.380</td>\n",
              "      <td>241.310</td>\n",
              "      <td>241.36</td>\n",
              "      <td>60858189.0</td>\n",
              "    </tr>\n",
              "    <tr>\n",
              "      <th>2017-06-28 00:00:00-04:00</th>\n",
              "      <td>109.85</td>\n",
              "      <td>109.8800</td>\n",
              "      <td>109.6800</td>\n",
              "      <td>109.85</td>\n",
              "      <td>12016805.0</td>\n",
              "      <td>242.50</td>\n",
              "      <td>243.715</td>\n",
              "      <td>242.230</td>\n",
              "      <td>243.46</td>\n",
              "      <td>50076355.0</td>\n",
              "    </tr>\n",
              "    <tr>\n",
              "      <th>2017-06-29 00:00:00-04:00</th>\n",
              "      <td>109.53</td>\n",
              "      <td>109.6800</td>\n",
              "      <td>109.4650</td>\n",
              "      <td>109.64</td>\n",
              "      <td>2457876.0</td>\n",
              "      <td>243.66</td>\n",
              "      <td>243.720</td>\n",
              "      <td>239.955</td>\n",
              "      <td>241.39</td>\n",
              "      <td>87799860.0</td>\n",
              "    </tr>\n",
              "  </tbody>\n",
              "</table>\n",
              "</div>"
            ],
            "text/plain": [
              "                              AGG            ...     SPY            \n",
              "                             open      high  ...   close      volume\n",
              "time                                         ...                    \n",
              "2017-06-23 00:00:00-04:00  110.01  110.1085  ...     NaN         NaN\n",
              "2017-06-26 00:00:00-04:00  110.19  110.2400  ...  243.27  43153677.0\n",
              "2017-06-27 00:00:00-04:00  109.93  109.9800  ...  241.36  60858189.0\n",
              "2017-06-28 00:00:00-04:00  109.85  109.8800  ...  243.46  50076355.0\n",
              "2017-06-29 00:00:00-04:00  109.53  109.6800  ...  241.39  87799860.0\n",
              "\n",
              "[5 rows x 10 columns]"
            ]
          },
          "metadata": {
            "tags": []
          },
          "execution_count": 15
        }
      ]
    },
    {
      "cell_type": "code",
      "metadata": {
        "colab": {
          "base_uri": "https://localhost:8080/"
        },
        "id": "oBJDl4OsTIuM",
        "outputId": "4984934a-cc00-4299-eb3b-9792b44855c3"
      },
      "source": [
        "df_ticker.info()"
      ],
      "execution_count": 16,
      "outputs": [
        {
          "output_type": "stream",
          "text": [
            "<class 'pandas.core.frame.DataFrame'>\n",
            "DatetimeIndex: 1001 entries, 2017-06-23 00:00:00-04:00 to 2021-06-15 00:00:00-04:00\n",
            "Data columns (total 10 columns):\n",
            " #   Column         Non-Null Count  Dtype  \n",
            "---  ------         --------------  -----  \n",
            " 0   (AGG, open)    1000 non-null   float64\n",
            " 1   (AGG, high)    1000 non-null   float64\n",
            " 2   (AGG, low)     1000 non-null   float64\n",
            " 3   (AGG, close)   1000 non-null   float64\n",
            " 4   (AGG, volume)  1000 non-null   float64\n",
            " 5   (SPY, open)    1000 non-null   float64\n",
            " 6   (SPY, high)    1000 non-null   float64\n",
            " 7   (SPY, low)     1000 non-null   float64\n",
            " 8   (SPY, close)   1000 non-null   float64\n",
            " 9   (SPY, volume)  1000 non-null   float64\n",
            "dtypes: float64(10)\n",
            "memory usage: 86.0 KB\n"
          ],
          "name": "stdout"
        }
      ]
    },
    {
      "cell_type": "code",
      "metadata": {
        "colab": {
          "base_uri": "https://localhost:8080/"
        },
        "id": "iTtT6U72YX-A",
        "outputId": "231d2bad-0fb9-4dc4-e533-c04c09dd62b4"
      },
      "source": [
        "df_AGG_close = df_ticker['AGG']['close']\n",
        "df_AGG_close"
      ],
      "execution_count": 17,
      "outputs": [
        {
          "output_type": "execute_result",
          "data": {
            "text/plain": [
              "time\n",
              "2017-06-23 00:00:00-04:00    110.070\n",
              "2017-06-26 00:00:00-04:00    110.160\n",
              "2017-06-27 00:00:00-04:00    109.830\n",
              "2017-06-28 00:00:00-04:00    109.850\n",
              "2017-06-29 00:00:00-04:00    109.640\n",
              "                              ...   \n",
              "2021-06-09 00:00:00-04:00    115.050\n",
              "2021-06-10 00:00:00-04:00    115.300\n",
              "2021-06-11 00:00:00-04:00    115.240\n",
              "2021-06-14 00:00:00-04:00    114.970\n",
              "2021-06-15 00:00:00-04:00    114.995\n",
              "Name: close, Length: 1001, dtype: float64"
            ]
          },
          "metadata": {
            "tags": []
          },
          "execution_count": 17
        }
      ]
    },
    {
      "cell_type": "code",
      "metadata": {
        "id": "-Rkq1IjVQcS9",
        "colab": {
          "base_uri": "https://localhost:8080/"
        },
        "outputId": "d1558736-e2f3-473d-feee-7c5ba39a4d6b"
      },
      "source": [
        "# Pick AGG and SPY close prices\n",
        "df_AGG_close = df_ticker['AGG']['close']\n",
        "df_SPY_close = df_ticker['SPY']['close']\n",
        "df_COMB_close = pd.concat(objs=[df_AGG_close,df_SPY_close], axis='columns', join='inner')\n",
        "df_COMB_close.columns = tickers\n",
        "\n",
        "# Last Trading Day\n",
        "last_trading_day = max(df_COMB_close.index)\n",
        "\n",
        "date_filtr = (df_COMB_close.index == last_trading_day)\n",
        "\n",
        "agg_close_price = df_COMB_close.loc[date_filtr, 'AGG'].values[0]\n",
        "spy_close_price = df_COMB_close.loc[date_filtr, 'SPY'].values[0]\n",
        "\n",
        "# Print AGG and SPY close prices\n",
        "print(f\"Current AGG closing price: ${agg_close_price}\")\n",
        "print(f\"Current SPY closing price: ${spy_close_price}\")\n"
      ],
      "execution_count": 18,
      "outputs": [
        {
          "output_type": "stream",
          "text": [
            "Current AGG closing price: $114.995\n",
            "Current SPY closing price: $424.6\n"
          ],
          "name": "stdout"
        }
      ]
    },
    {
      "cell_type": "code",
      "metadata": {
        "id": "AMVFDS-oQcS9",
        "colab": {
          "base_uri": "https://localhost:8080/"
        },
        "outputId": "d43db751-e8b0-4a72-b8b8-119ccca391f4"
      },
      "source": [
        "# Compute the current value of shares\n",
        "my_agg_value = agg_close_price * my_agg\n",
        "my_spy_value = spy_close_price * my_spy\n",
        "\n",
        "# Print current value of shares\n",
        "print(f\"The current value of your {my_spy:3} SPY shares is ${my_spy_value:10,.2f}\")\n",
        "print(f\"The current value of your {my_agg} AGG shares is ${my_agg_value:10,.2f}\")"
      ],
      "execution_count": 19,
      "outputs": [
        {
          "output_type": "stream",
          "text": [
            "The current value of your  50 SPY shares is $ 21,230.00\n",
            "The current value of your 200 AGG shares is $ 22,999.00\n"
          ],
          "name": "stdout"
        }
      ]
    },
    {
      "cell_type": "markdown",
      "metadata": {
        "id": "QQR5Klf9QcS-"
      },
      "source": [
        "### Savings Health Analysis"
      ]
    },
    {
      "cell_type": "code",
      "metadata": {
        "id": "40D3QB8cQcS-",
        "colab": {
          "base_uri": "https://localhost:8080/",
          "height": 173
        },
        "outputId": "ebc49cdb-b703-4db4-e0e4-9261a9fb880b"
      },
      "source": [
        "# Set monthly household income\n",
        "monthly_income = 12_000\n",
        "\n",
        "# Consolidate financial assets data\n",
        "assets =[{'bitcoin':my_btc_value},{'ethereum':my_eth_value},{'SPY stock':my_spy_value},{'AGG stock':my_agg_value}]\n",
        "assets = {'Asset':['bitcoin','ethereum','SPY stock','AGG stock'], \n",
        "          'Value':[my_btc_value,my_eth_value,my_spy_value,my_agg_value]}\n",
        "\n",
        "# Create savings DataFrame\n",
        "df_savings = pd.DataFrame(data=assets, index=['bitcoin','ethereum','SPY stock','AGG stock'])\n",
        "xidx = df_savings['Asset'].to_list()\n",
        "\n",
        "# Display savings DataFrame\n",
        "display(df_savings)"
      ],
      "execution_count": 20,
      "outputs": [
        {
          "output_type": "display_data",
          "data": {
            "text/html": [
              "<div>\n",
              "<style scoped>\n",
              "    .dataframe tbody tr th:only-of-type {\n",
              "        vertical-align: middle;\n",
              "    }\n",
              "\n",
              "    .dataframe tbody tr th {\n",
              "        vertical-align: top;\n",
              "    }\n",
              "\n",
              "    .dataframe thead th {\n",
              "        text-align: right;\n",
              "    }\n",
              "</style>\n",
              "<table border=\"1\" class=\"dataframe\">\n",
              "  <thead>\n",
              "    <tr style=\"text-align: right;\">\n",
              "      <th></th>\n",
              "      <th>Asset</th>\n",
              "      <th>Value</th>\n",
              "    </tr>\n",
              "  </thead>\n",
              "  <tbody>\n",
              "    <tr>\n",
              "      <th>bitcoin</th>\n",
              "      <td>bitcoin</td>\n",
              "      <td>60159.453120</td>\n",
              "    </tr>\n",
              "    <tr>\n",
              "      <th>ethereum</th>\n",
              "      <td>ethereum</td>\n",
              "      <td>17741.667552</td>\n",
              "    </tr>\n",
              "    <tr>\n",
              "      <th>SPY stock</th>\n",
              "      <td>SPY stock</td>\n",
              "      <td>21230.000000</td>\n",
              "    </tr>\n",
              "    <tr>\n",
              "      <th>AGG stock</th>\n",
              "      <td>AGG stock</td>\n",
              "      <td>22999.000000</td>\n",
              "    </tr>\n",
              "  </tbody>\n",
              "</table>\n",
              "</div>"
            ],
            "text/plain": [
              "               Asset         Value\n",
              "bitcoin      bitcoin  60159.453120\n",
              "ethereum    ethereum  17741.667552\n",
              "SPY stock  SPY stock  21230.000000\n",
              "AGG stock  AGG stock  22999.000000"
            ]
          },
          "metadata": {
            "tags": []
          }
        }
      ]
    },
    {
      "cell_type": "code",
      "metadata": {
        "id": "s_VUAtBDQcS_",
        "colab": {
          "base_uri": "https://localhost:8080/",
          "height": 575
        },
        "outputId": "d350880f-0fb1-450a-948b-dfd4be4834d5"
      },
      "source": [
        "# Plot savings pie chart\n",
        "plt.show(\n",
        "    df_savings.plot.pie(y='Value', figsize=(10,10))\n",
        ")\n"
      ],
      "execution_count": 21,
      "outputs": [
        {
          "output_type": "display_data",
          "data": {
            "image/png": "[encoded data removed]",
            "text/plain": [
              "<Figure size 720x720 with 1 Axes>"
            ]
          },
          "metadata": {
            "tags": []
          }
        }
      ]
    },
    {
      "cell_type": "code",
      "metadata": {
        "id": "F4eXuAHlQcS_",
        "colab": {
          "base_uri": "https://localhost:8080/"
        },
        "outputId": "0f6f9789-93ab-4d15-b210-bf762775fe45"
      },
      "source": [
        "# Set ideal emergency fund\n",
        "emergency_fund = monthly_income * 3\n",
        "\n",
        "# Calculate total amount of savings\n",
        "total_savings = df_savings['Value'].sum()\n",
        "\n",
        "# Validate saving health\n",
        "if total_savings > emergency_fund:\n",
        "  print(f'Your savings (CAD${total_savings:0,.2f}) exceeds your emergency fund (CAD${emergency_fund:0,.2f}) requirements by CAD${total_savings - emergency_fund:0,.2f}')\n",
        "else:\n",
        "  print(f'You need to increase your emergench funds by (CAD${emergency_fund - total_savings:0,.2f})')"
      ],
      "execution_count": 22,
      "outputs": [
        {
          "output_type": "stream",
          "text": [
            "Your savings (CAD$122,130.12) exceeds your emergency fund (CAD$36,000.00) requirements by CAD$86,130.12\n"
          ],
          "name": "stdout"
        }
      ]
    },
    {
      "cell_type": "markdown",
      "metadata": {
        "id": "zoY3n08EQcTA"
      },
      "source": [
        "## Part 2 - Retirement Planning\n",
        "\n",
        "### Monte Carlo Simulation"
      ]
    },
    {
      "cell_type": "code",
      "metadata": {
        "id": "fStjOWMuCGLb"
      },
      "source": [
        "from datetime import timedelta"
      ],
      "execution_count": 33,
      "outputs": []
    },
    {
      "cell_type": "code",
      "metadata": {
        "id": "xAcRQbuoQcTA"
      },
      "source": [
        "# Set start and end dates of five years back from today.\n",
        "# Sample results may vary from the solution based on the time frame chosen\n",
        "start_date = pd.Timestamp('2016-05-01', tz='America/New_York').isoformat()\n",
        "end_date   = pd.Timestamp('2021-05-01', tz='America/New_York').isoformat()"
      ],
      "execution_count": 62,
      "outputs": []
    },
    {
      "cell_type": "code",
      "metadata": {
        "id": "deIQ9t5rMNAB",
        "outputId": "8c37783a-9bfb-44d5-afe4-20670e569c7e",
        "colab": {
          "base_uri": "https://localhost:8080/"
        }
      },
      "source": [
        "(start_date,\n",
        " end_date)"
      ],
      "execution_count": 63,
      "outputs": [
        {
          "output_type": "execute_result",
          "data": {
            "text/plain": [
              "('2016-05-01T00:00:00-04:00', '2021-05-01T00:00:00-04:00')"
            ]
          },
          "metadata": {
            "tags": []
          },
          "execution_count": 63
        }
      ]
    },
    {
      "cell_type": "code",
      "metadata": {
        "id": "kh_MCk07NH2f",
        "outputId": "2d7e4d19-9754-4567-8570-1ae5cb8128c3",
        "colab": {
          "base_uri": "https://localhost:8080/",
          "height": 421
        }
      },
      "source": [
        "api.get_barset(\n",
        "    symbols=tickers,\n",
        "    timeframe=timeframe,\n",
        "    start=start_date,\n",
        "    end=end_date,\n",
        "    limit= 10\n",
        ").df"
      ],
      "execution_count": 86,
      "outputs": [
        {
          "output_type": "execute_result",
          "data": {
            "text/html": [
              "<div>\n",
              "<style scoped>\n",
              "    .dataframe tbody tr th:only-of-type {\n",
              "        vertical-align: middle;\n",
              "    }\n",
              "\n",
              "    .dataframe tbody tr th {\n",
              "        vertical-align: top;\n",
              "    }\n",
              "\n",
              "    .dataframe thead tr th {\n",
              "        text-align: left;\n",
              "    }\n",
              "\n",
              "    .dataframe thead tr:last-of-type th {\n",
              "        text-align: right;\n",
              "    }\n",
              "</style>\n",
              "<table border=\"1\" class=\"dataframe\">\n",
              "  <thead>\n",
              "    <tr>\n",
              "      <th></th>\n",
              "      <th colspan=\"5\" halign=\"left\">AGG</th>\n",
              "      <th colspan=\"5\" halign=\"left\">SPY</th>\n",
              "    </tr>\n",
              "    <tr>\n",
              "      <th></th>\n",
              "      <th>open</th>\n",
              "      <th>high</th>\n",
              "      <th>low</th>\n",
              "      <th>close</th>\n",
              "      <th>volume</th>\n",
              "      <th>open</th>\n",
              "      <th>high</th>\n",
              "      <th>low</th>\n",
              "      <th>close</th>\n",
              "      <th>volume</th>\n",
              "    </tr>\n",
              "    <tr>\n",
              "      <th>time</th>\n",
              "      <th></th>\n",
              "      <th></th>\n",
              "      <th></th>\n",
              "      <th></th>\n",
              "      <th></th>\n",
              "      <th></th>\n",
              "      <th></th>\n",
              "      <th></th>\n",
              "      <th></th>\n",
              "      <th></th>\n",
              "    </tr>\n",
              "  </thead>\n",
              "  <tbody>\n",
              "    <tr>\n",
              "      <th>2021-04-19 00:00:00-04:00</th>\n",
              "      <td>114.00</td>\n",
              "      <td>114.5000</td>\n",
              "      <td>114.0000</td>\n",
              "      <td>114.44</td>\n",
              "      <td>4820664</td>\n",
              "      <td>416.26</td>\n",
              "      <td>416.7400</td>\n",
              "      <td>413.7900</td>\n",
              "      <td>415.24</td>\n",
              "      <td>66226327</td>\n",
              "    </tr>\n",
              "    <tr>\n",
              "      <th>2021-04-20 00:00:00-04:00</th>\n",
              "      <td>114.42</td>\n",
              "      <td>114.6700</td>\n",
              "      <td>114.3900</td>\n",
              "      <td>114.62</td>\n",
              "      <td>3674209</td>\n",
              "      <td>413.91</td>\n",
              "      <td>415.0859</td>\n",
              "      <td>410.5900</td>\n",
              "      <td>412.22</td>\n",
              "      <td>69715050</td>\n",
              "    </tr>\n",
              "    <tr>\n",
              "      <th>2021-04-21 00:00:00-04:00</th>\n",
              "      <td>114.60</td>\n",
              "      <td>114.7400</td>\n",
              "      <td>114.5300</td>\n",
              "      <td>114.74</td>\n",
              "      <td>5250384</td>\n",
              "      <td>411.51</td>\n",
              "      <td>416.2900</td>\n",
              "      <td>411.3600</td>\n",
              "      <td>416.08</td>\n",
              "      <td>54772634</td>\n",
              "    </tr>\n",
              "    <tr>\n",
              "      <th>2021-04-22 00:00:00-04:00</th>\n",
              "      <td>114.74</td>\n",
              "      <td>114.8000</td>\n",
              "      <td>114.5900</td>\n",
              "      <td>114.77</td>\n",
              "      <td>3518947</td>\n",
              "      <td>415.88</td>\n",
              "      <td>416.7800</td>\n",
              "      <td>411.1300</td>\n",
              "      <td>412.30</td>\n",
              "      <td>90086341</td>\n",
              "    </tr>\n",
              "    <tr>\n",
              "      <th>2021-04-23 00:00:00-04:00</th>\n",
              "      <td>114.81</td>\n",
              "      <td>115.0860</td>\n",
              "      <td>114.6415</td>\n",
              "      <td>114.75</td>\n",
              "      <td>3506457</td>\n",
              "      <td>412.87</td>\n",
              "      <td>418.2500</td>\n",
              "      <td>412.7900</td>\n",
              "      <td>416.72</td>\n",
              "      <td>62184753</td>\n",
              "    </tr>\n",
              "    <tr>\n",
              "      <th>2021-04-26 00:00:00-04:00</th>\n",
              "      <td>114.74</td>\n",
              "      <td>114.8015</td>\n",
              "      <td>114.6500</td>\n",
              "      <td>114.65</td>\n",
              "      <td>2867784</td>\n",
              "      <td>417.44</td>\n",
              "      <td>418.2200</td>\n",
              "      <td>416.8111</td>\n",
              "      <td>417.64</td>\n",
              "      <td>44689009</td>\n",
              "    </tr>\n",
              "    <tr>\n",
              "      <th>2021-04-27 00:00:00-04:00</th>\n",
              "      <td>115.13</td>\n",
              "      <td>115.1300</td>\n",
              "      <td>114.3700</td>\n",
              "      <td>114.37</td>\n",
              "      <td>3421667</td>\n",
              "      <td>417.91</td>\n",
              "      <td>418.1400</td>\n",
              "      <td>416.3000</td>\n",
              "      <td>417.48</td>\n",
              "      <td>45962655</td>\n",
              "    </tr>\n",
              "    <tr>\n",
              "      <th>2021-04-28 00:00:00-04:00</th>\n",
              "      <td>114.45</td>\n",
              "      <td>114.4685</td>\n",
              "      <td>114.2000</td>\n",
              "      <td>114.44</td>\n",
              "      <td>6185936</td>\n",
              "      <td>417.81</td>\n",
              "      <td>419.0100</td>\n",
              "      <td>416.9000</td>\n",
              "      <td>417.35</td>\n",
              "      <td>45533863</td>\n",
              "    </tr>\n",
              "    <tr>\n",
              "      <th>2021-04-29 00:00:00-04:00</th>\n",
              "      <td>114.14</td>\n",
              "      <td>114.3700</td>\n",
              "      <td>114.0900</td>\n",
              "      <td>114.37</td>\n",
              "      <td>5796983</td>\n",
              "      <td>420.33</td>\n",
              "      <td>420.7200</td>\n",
              "      <td>416.4400</td>\n",
              "      <td>419.98</td>\n",
              "      <td>70595229</td>\n",
              "    </tr>\n",
              "    <tr>\n",
              "      <th>2021-04-30 00:00:00-04:00</th>\n",
              "      <td>114.41</td>\n",
              "      <td>114.5150</td>\n",
              "      <td>114.3300</td>\n",
              "      <td>114.50</td>\n",
              "      <td>5160765</td>\n",
              "      <td>417.63</td>\n",
              "      <td>418.5400</td>\n",
              "      <td>416.3400</td>\n",
              "      <td>417.30</td>\n",
              "      <td>73129109</td>\n",
              "    </tr>\n",
              "  </tbody>\n",
              "</table>\n",
              "</div>"
            ],
            "text/plain": [
              "                              AGG            ...     SPY          \n",
              "                             open      high  ...   close    volume\n",
              "time                                         ...                  \n",
              "2021-04-19 00:00:00-04:00  114.00  114.5000  ...  415.24  66226327\n",
              "2021-04-20 00:00:00-04:00  114.42  114.6700  ...  412.22  69715050\n",
              "2021-04-21 00:00:00-04:00  114.60  114.7400  ...  416.08  54772634\n",
              "2021-04-22 00:00:00-04:00  114.74  114.8000  ...  412.30  90086341\n",
              "2021-04-23 00:00:00-04:00  114.81  115.0860  ...  416.72  62184753\n",
              "2021-04-26 00:00:00-04:00  114.74  114.8015  ...  417.64  44689009\n",
              "2021-04-27 00:00:00-04:00  115.13  115.1300  ...  417.48  45962655\n",
              "2021-04-28 00:00:00-04:00  114.45  114.4685  ...  417.35  45533863\n",
              "2021-04-29 00:00:00-04:00  114.14  114.3700  ...  419.98  70595229\n",
              "2021-04-30 00:00:00-04:00  114.41  114.5150  ...  417.30  73129109\n",
              "\n",
              "[10 rows x 10 columns]"
            ]
          },
          "metadata": {
            "tags": []
          },
          "execution_count": 86
        }
      ]
    },
    {
      "cell_type": "code",
      "metadata": {
        "id": "KgH4Kl34QcTA",
        "colab": {
          "base_uri": "https://localhost:8080/",
          "height": 498
        },
        "outputId": "dbbbe6b4-b959-4ed4-b232-51e91a1a406b"
      },
      "source": [
        "# Get 5 years' worth of historical data for SPY and AGG\n",
        "# (use a limit=1000 parameter to call the most recent 1000 days of data)\n",
        "trading_days = 252 * 5\n",
        "max_day_count = 1000\n",
        "df_part_1 = api.get_barset(\n",
        "    symbols=tickers,\n",
        "    timeframe=timeframe,\n",
        "    start=start_date,\n",
        "    limit= 1000\n",
        ").df\n",
        "\n",
        "a = (max(df_part_1.index) + timedelta(days=1)).isoformat()\n",
        "df_part_2 = api.get_barset(\n",
        "    symbols= tickers,\n",
        "    timeframe= timeframe,\n",
        "    start= a,\n",
        "    end  = end_date\n",
        ").df\n",
        "\n",
        "print(start_date,a,end_date)\n",
        "\n",
        "\n",
        "df_stock_data = pd.concat(objs=[df_part_1,df_part_2], axis='rows', join='inner', sort=True)\n",
        "# Display sample data\n",
        "#df_stock_data.head()\n",
        "df_stock_data\n",
        "df_part_1"
      ],
      "execution_count": 85,
      "outputs": [
        {
          "output_type": "stream",
          "text": [
            "2016-05-01T00:00:00-04:00 2021-06-16T00:00:00-04:00 2021-05-01T00:00:00-04:00\n"
          ],
          "name": "stdout"
        },
        {
          "output_type": "execute_result",
          "data": {
            "text/html": [
              "<div>\n",
              "<style scoped>\n",
              "    .dataframe tbody tr th:only-of-type {\n",
              "        vertical-align: middle;\n",
              "    }\n",
              "\n",
              "    .dataframe tbody tr th {\n",
              "        vertical-align: top;\n",
              "    }\n",
              "\n",
              "    .dataframe thead tr th {\n",
              "        text-align: left;\n",
              "    }\n",
              "\n",
              "    .dataframe thead tr:last-of-type th {\n",
              "        text-align: right;\n",
              "    }\n",
              "</style>\n",
              "<table border=\"1\" class=\"dataframe\">\n",
              "  <thead>\n",
              "    <tr>\n",
              "      <th></th>\n",
              "      <th colspan=\"5\" halign=\"left\">AGG</th>\n",
              "      <th colspan=\"5\" halign=\"left\">SPY</th>\n",
              "    </tr>\n",
              "    <tr>\n",
              "      <th></th>\n",
              "      <th>open</th>\n",
              "      <th>high</th>\n",
              "      <th>low</th>\n",
              "      <th>close</th>\n",
              "      <th>volume</th>\n",
              "      <th>open</th>\n",
              "      <th>high</th>\n",
              "      <th>low</th>\n",
              "      <th>close</th>\n",
              "      <th>volume</th>\n",
              "    </tr>\n",
              "    <tr>\n",
              "      <th>time</th>\n",
              "      <th></th>\n",
              "      <th></th>\n",
              "      <th></th>\n",
              "      <th></th>\n",
              "      <th></th>\n",
              "      <th></th>\n",
              "      <th></th>\n",
              "      <th></th>\n",
              "      <th></th>\n",
              "      <th></th>\n",
              "    </tr>\n",
              "  </thead>\n",
              "  <tbody>\n",
              "    <tr>\n",
              "      <th>2017-06-23 00:00:00-04:00</th>\n",
              "      <td>110.01</td>\n",
              "      <td>110.1085</td>\n",
              "      <td>109.9800</td>\n",
              "      <td>110.070</td>\n",
              "      <td>1101304.0</td>\n",
              "      <td>NaN</td>\n",
              "      <td>NaN</td>\n",
              "      <td>NaN</td>\n",
              "      <td>NaN</td>\n",
              "      <td>NaN</td>\n",
              "    </tr>\n",
              "    <tr>\n",
              "      <th>2017-06-26 00:00:00-04:00</th>\n",
              "      <td>110.19</td>\n",
              "      <td>110.2400</td>\n",
              "      <td>110.1300</td>\n",
              "      <td>110.160</td>\n",
              "      <td>1364100.0</td>\n",
              "      <td>243.89</td>\n",
              "      <td>244.380</td>\n",
              "      <td>243.045</td>\n",
              "      <td>243.27</td>\n",
              "      <td>43153677.0</td>\n",
              "    </tr>\n",
              "    <tr>\n",
              "      <th>2017-06-27 00:00:00-04:00</th>\n",
              "      <td>109.93</td>\n",
              "      <td>109.9800</td>\n",
              "      <td>109.7901</td>\n",
              "      <td>109.830</td>\n",
              "      <td>2883305.0</td>\n",
              "      <td>243.04</td>\n",
              "      <td>243.380</td>\n",
              "      <td>241.310</td>\n",
              "      <td>241.36</td>\n",
              "      <td>60858189.0</td>\n",
              "    </tr>\n",
              "    <tr>\n",
              "      <th>2017-06-28 00:00:00-04:00</th>\n",
              "      <td>109.85</td>\n",
              "      <td>109.8800</td>\n",
              "      <td>109.6800</td>\n",
              "      <td>109.850</td>\n",
              "      <td>12016805.0</td>\n",
              "      <td>242.50</td>\n",
              "      <td>243.715</td>\n",
              "      <td>242.230</td>\n",
              "      <td>243.46</td>\n",
              "      <td>50076355.0</td>\n",
              "    </tr>\n",
              "    <tr>\n",
              "      <th>2017-06-29 00:00:00-04:00</th>\n",
              "      <td>109.53</td>\n",
              "      <td>109.6800</td>\n",
              "      <td>109.4650</td>\n",
              "      <td>109.640</td>\n",
              "      <td>2457876.0</td>\n",
              "      <td>243.66</td>\n",
              "      <td>243.720</td>\n",
              "      <td>239.955</td>\n",
              "      <td>241.39</td>\n",
              "      <td>87799860.0</td>\n",
              "    </tr>\n",
              "    <tr>\n",
              "      <th>...</th>\n",
              "      <td>...</td>\n",
              "      <td>...</td>\n",
              "      <td>...</td>\n",
              "      <td>...</td>\n",
              "      <td>...</td>\n",
              "      <td>...</td>\n",
              "      <td>...</td>\n",
              "      <td>...</td>\n",
              "      <td>...</td>\n",
              "      <td>...</td>\n",
              "    </tr>\n",
              "    <tr>\n",
              "      <th>2021-06-09 00:00:00-04:00</th>\n",
              "      <td>115.43</td>\n",
              "      <td>115.4300</td>\n",
              "      <td>114.9700</td>\n",
              "      <td>115.050</td>\n",
              "      <td>3418086.0</td>\n",
              "      <td>423.18</td>\n",
              "      <td>423.260</td>\n",
              "      <td>421.410</td>\n",
              "      <td>421.62</td>\n",
              "      <td>38368598.0</td>\n",
              "    </tr>\n",
              "    <tr>\n",
              "      <th>2021-06-10 00:00:00-04:00</th>\n",
              "      <td>115.30</td>\n",
              "      <td>115.3100</td>\n",
              "      <td>114.8605</td>\n",
              "      <td>115.300</td>\n",
              "      <td>3665934.0</td>\n",
              "      <td>422.96</td>\n",
              "      <td>424.630</td>\n",
              "      <td>421.550</td>\n",
              "      <td>423.58</td>\n",
              "      <td>43577329.0</td>\n",
              "    </tr>\n",
              "    <tr>\n",
              "      <th>2021-06-11 00:00:00-04:00</th>\n",
              "      <td>115.31</td>\n",
              "      <td>115.3200</td>\n",
              "      <td>115.1600</td>\n",
              "      <td>115.240</td>\n",
              "      <td>3476373.0</td>\n",
              "      <td>424.19</td>\n",
              "      <td>424.420</td>\n",
              "      <td>422.820</td>\n",
              "      <td>424.31</td>\n",
              "      <td>37018077.0</td>\n",
              "    </tr>\n",
              "    <tr>\n",
              "      <th>2021-06-14 00:00:00-04:00</th>\n",
              "      <td>115.18</td>\n",
              "      <td>115.1800</td>\n",
              "      <td>114.9350</td>\n",
              "      <td>114.970</td>\n",
              "      <td>2999623.0</td>\n",
              "      <td>424.43</td>\n",
              "      <td>425.290</td>\n",
              "      <td>423.100</td>\n",
              "      <td>425.29</td>\n",
              "      <td>33128340.0</td>\n",
              "    </tr>\n",
              "    <tr>\n",
              "      <th>2021-06-15 00:00:00-04:00</th>\n",
              "      <td>114.90</td>\n",
              "      <td>115.0200</td>\n",
              "      <td>114.8700</td>\n",
              "      <td>114.995</td>\n",
              "      <td>5842592.0</td>\n",
              "      <td>425.43</td>\n",
              "      <td>425.460</td>\n",
              "      <td>423.540</td>\n",
              "      <td>424.50</td>\n",
              "      <td>42885806.0</td>\n",
              "    </tr>\n",
              "  </tbody>\n",
              "</table>\n",
              "<p>1001 rows × 10 columns</p>\n",
              "</div>"
            ],
            "text/plain": [
              "                              AGG            ...     SPY            \n",
              "                             open      high  ...   close      volume\n",
              "time                                         ...                    \n",
              "2017-06-23 00:00:00-04:00  110.01  110.1085  ...     NaN         NaN\n",
              "2017-06-26 00:00:00-04:00  110.19  110.2400  ...  243.27  43153677.0\n",
              "2017-06-27 00:00:00-04:00  109.93  109.9800  ...  241.36  60858189.0\n",
              "2017-06-28 00:00:00-04:00  109.85  109.8800  ...  243.46  50076355.0\n",
              "2017-06-29 00:00:00-04:00  109.53  109.6800  ...  241.39  87799860.0\n",
              "...                           ...       ...  ...     ...         ...\n",
              "2021-06-09 00:00:00-04:00  115.43  115.4300  ...  421.62  38368598.0\n",
              "2021-06-10 00:00:00-04:00  115.30  115.3100  ...  423.58  43577329.0\n",
              "2021-06-11 00:00:00-04:00  115.31  115.3200  ...  424.31  37018077.0\n",
              "2021-06-14 00:00:00-04:00  115.18  115.1800  ...  425.29  33128340.0\n",
              "2021-06-15 00:00:00-04:00  114.90  115.0200  ...  424.50  42885806.0\n",
              "\n",
              "[1001 rows x 10 columns]"
            ]
          },
          "metadata": {
            "tags": []
          },
          "execution_count": 85
        }
      ]
    },
    {
      "cell_type": "code",
      "metadata": {
        "id": "yp7O4_LqQcTB"
      },
      "source": [
        "# Configuring a Monte Carlo simulation to forecast 30 years cumulative returns\n",
        "# YOUR CODE HERE!"
      ],
      "execution_count": null,
      "outputs": []
    },
    {
      "cell_type": "code",
      "metadata": {
        "id": "Jjen4loZQcTB"
      },
      "source": [
        "# Printing the simulation input data\n",
        "# YOUR CODE HERE!"
      ],
      "execution_count": null,
      "outputs": []
    },
    {
      "cell_type": "code",
      "metadata": {
        "id": "StGLYvSPQcTC"
      },
      "source": [
        "# Running a Monte Carlo simulation to forecast 30 years cumulative returns\n",
        "# YOUR CODE HERE!"
      ],
      "execution_count": null,
      "outputs": []
    },
    {
      "cell_type": "code",
      "metadata": {
        "id": "jId11nafQcTD"
      },
      "source": [
        "# Plot simulation outcomes\n",
        "# YOUR CODE HERE!"
      ],
      "execution_count": null,
      "outputs": []
    },
    {
      "cell_type": "code",
      "metadata": {
        "id": "n-PL3z00QcTE"
      },
      "source": [
        "# Plot probability distribution and confidence intervals\n",
        "# YOUR CODE HERE!"
      ],
      "execution_count": null,
      "outputs": []
    },
    {
      "cell_type": "markdown",
      "metadata": {
        "id": "vBs1peeXQcTE"
      },
      "source": [
        "### Retirement Analysis"
      ]
    },
    {
      "cell_type": "code",
      "metadata": {
        "id": "n2n7PV6qQcTE"
      },
      "source": [
        "# Fetch summary statistics from the Monte Carlo simulation results\n",
        "# YOUR CODE HERE!\n",
        "\n",
        "# Print summary statistics\n",
        "# YOUR CODE HERE!"
      ],
      "execution_count": null,
      "outputs": []
    },
    {
      "cell_type": "markdown",
      "metadata": {
        "id": "TvMQiD5FQcTF"
      },
      "source": [
        "### Calculate the expected portfolio return at the `95%` lower and upper confidence intervals based on a `$20,000` initial investment."
      ]
    },
    {
      "cell_type": "code",
      "metadata": {
        "id": "1Y7a9pAxQcTF"
      },
      "source": [
        "# Set initial investment\n",
        "initial_investment = 20000\n",
        "\n",
        "# Use the lower and upper `95%` confidence intervals to calculate the range of the possible outcomes of our $20,000\n",
        "# YOUR CODE HERE!\n",
        "\n",
        "# Print results\n",
        "print(f\"There is a 95% chance that an initial investment of ${initial_investment} in the portfolio\"\n",
        "      f\" over the next 30 years will end within in the range of\"\n",
        "      f\" ${ci_lower} and ${ci_upper}\")"
      ],
      "execution_count": null,
      "outputs": []
    },
    {
      "cell_type": "markdown",
      "metadata": {
        "id": "bzdFHLHnQcTG"
      },
      "source": [
        "### Calculate the expected portfolio return at the `95%` lower and upper confidence intervals based on a `50%` increase in the initial investment."
      ]
    },
    {
      "cell_type": "code",
      "metadata": {
        "id": "wlY3GytDQcTG"
      },
      "source": [
        "# Set initial investment\n",
        "initial_investment = 20000 * 1.5\n",
        "\n",
        "# Use the lower and upper `95%` confidence intervals to calculate the range of the possible outcomes of our $30,000\n",
        "# YOUR CODE HERE!\n",
        "\n",
        "# Print results\n",
        "print(f\"There is a 95% chance that an initial investment of ${initial_investment} in the portfolio\"\n",
        "      f\" over the next 30 years will end within in the range of\"\n",
        "      f\" ${ci_lower} and ${ci_upper}\")"
      ],
      "execution_count": null,
      "outputs": []
    },
    {
      "cell_type": "markdown",
      "metadata": {
        "id": "9F1eIE-LQcTH"
      },
      "source": [
        "## Optional Challenge - Early Retirement\n",
        "\n",
        "\n",
        "### Five Years Retirement Option"
      ]
    },
    {
      "cell_type": "code",
      "metadata": {
        "id": "IRcrPmBRQcTI"
      },
      "source": [
        "# Configuring a Monte Carlo simulation to forecast 5 years cumulative returns\n",
        "# YOUR CODE HERE!"
      ],
      "execution_count": null,
      "outputs": []
    },
    {
      "cell_type": "code",
      "metadata": {
        "id": "V_W3P7auQcTJ"
      },
      "source": [
        "# Running a Monte Carlo simulation to forecast 5 years cumulative returns\n",
        "# YOUR CODE HERE!"
      ],
      "execution_count": null,
      "outputs": []
    },
    {
      "cell_type": "code",
      "metadata": {
        "id": "Qps9bAzbQcTK"
      },
      "source": [
        "# Plot simulation outcomes\n",
        "# YOUR CODE HERE!"
      ],
      "execution_count": null,
      "outputs": []
    },
    {
      "cell_type": "code",
      "metadata": {
        "id": "Afr8empQQcTK"
      },
      "source": [
        "# Plot probability distribution and confidence intervals\n",
        "# YOUR CODE HERE!"
      ],
      "execution_count": null,
      "outputs": []
    },
    {
      "cell_type": "code",
      "metadata": {
        "id": "j3pa7baKQcTL"
      },
      "source": [
        "# Fetch summary statistics from the Monte Carlo simulation results\n",
        "# YOUR CODE HERE!\n",
        "\n",
        "# Print summary statistics\n",
        "# YOUR CODE HERE!"
      ],
      "execution_count": null,
      "outputs": []
    },
    {
      "cell_type": "code",
      "metadata": {
        "id": "0IzUGJVrQcTL"
      },
      "source": [
        "# Set initial investment\n",
        "# YOUR CODE HERE!\n",
        "\n",
        "# Use the lower and upper `95%` confidence intervals to calculate the range of the possible outcomes of our $60,000\n",
        "# YOUR CODE HERE!\n",
        "\n",
        "# Print results\n",
        "print(f\"There is a 95% chance that an initial investment of ${initial_investment} in the portfolio\"\n",
        "      f\" over the next 5 years will end within in the range of\"\n",
        "      f\" ${ci_lower_five} and ${ci_upper_five}\")"
      ],
      "execution_count": null,
      "outputs": []
    },
    {
      "cell_type": "markdown",
      "metadata": {
        "id": "OBO3m7qsQcTM"
      },
      "source": [
        "### Ten Years Retirement Option"
      ]
    },
    {
      "cell_type": "code",
      "metadata": {
        "id": "istqydSDQcTM"
      },
      "source": [
        "# Configuring a Monte Carlo simulation to forecast 10 years cumulative returns\n",
        "# YOUR CODE HERE!"
      ],
      "execution_count": null,
      "outputs": []
    },
    {
      "cell_type": "code",
      "metadata": {
        "id": "lbXdOAQBQcTM"
      },
      "source": [
        "# Running a Monte Carlo simulation to forecast 10 years cumulative returns\n",
        "# YOUR CODE HERE!"
      ],
      "execution_count": null,
      "outputs": []
    },
    {
      "cell_type": "code",
      "metadata": {
        "id": "0e9UQFH8QcTN"
      },
      "source": [
        "# Plot simulation outcomes\n",
        "# YOUR CODE HERE!"
      ],
      "execution_count": null,
      "outputs": []
    },
    {
      "cell_type": "code",
      "metadata": {
        "id": "JM-AnbRnQcTN"
      },
      "source": [
        "# Plot probability distribution and confidence intervals\n",
        "# YOUR CODE HERE!"
      ],
      "execution_count": null,
      "outputs": []
    },
    {
      "cell_type": "code",
      "metadata": {
        "id": "QcUaQaIQQcTO"
      },
      "source": [
        "# Fetch summary statistics from the Monte Carlo simulation results\n",
        "# YOUR CODE HERE!\n",
        "\n",
        "# Print summary statistics\n",
        "# YOUR CODE HERE!"
      ],
      "execution_count": null,
      "outputs": []
    },
    {
      "cell_type": "code",
      "metadata": {
        "id": "zHxDA2Z5QcTO"
      },
      "source": [
        "# Set initial investment\n",
        "# YOUR CODE HERE!\n",
        "\n",
        "# Use the lower and upper `95%` confidence intervals to calculate the range of the possible outcomes of our $60,000\n",
        "# YOUR CODE HERE!\n",
        "\n",
        "# Print results\n",
        "print(f\"There is a 95% chance that an initial investment of ${initial_investment} in the portfolio\"\n",
        "      f\" over the next 10 years will end within in the range of\"\n",
        "      f\" ${ci_lower_ten} and ${ci_upper_ten}\")"
      ],
      "execution_count": null,
      "outputs": []
    },
    {
      "cell_type": "code",
      "metadata": {
        "id": "bJraSroUQcTO"
      },
      "source": [
        ""
      ],
      "execution_count": null,
      "outputs": []
    }
  ]
}